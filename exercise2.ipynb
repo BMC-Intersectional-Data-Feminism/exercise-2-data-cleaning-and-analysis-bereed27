{
 "cells": [
  {
   "cell_type": "markdown",
   "metadata": {},
   "source": [
    "# Exercise 2: Data Processing and Analysis"
   ]
  },
  {
   "cell_type": "code",
   "execution_count": 9,
   "metadata": {},
   "outputs": [],
   "source": [
    "import pandas as pd \n",
    "import matplotlib.pyplot as plt\n",
    "import seaborn as sns\n",
    "import numpy as np\n",
    "try:\n",
    "    import otter\n",
    "    grader = otter.Notebook()\n",
    "except:\n",
    "    !pip install otter-grader\n",
    "    import otter\n",
    "    grader = otter.Notebook()\n"
   ]
  },
  {
   "cell_type": "markdown",
   "metadata": {},
   "source": [
    "Today we're working with simulated smartwatch health data. You'll notice when you read in the csv file that we have 7 columns: User ID, Heart Rate (BPM), Blood Oxygen Level (%), Step Count, Sleep Duration (hours), Activity Level, and Stress Level. We're going to go through and \"clean up\" the data so that we can calculate some basic statistics such as mean, median, minimum, and maximum for each variable. Run the cell below to read in the table saving it in the variable `smartwatch`. "
   ]
  },
  {
   "cell_type": "code",
   "execution_count": 10,
   "metadata": {},
   "outputs": [
    {
     "data": {
      "text/html": [
       "<div>\n",
       "<style scoped>\n",
       "    .dataframe tbody tr th:only-of-type {\n",
       "        vertical-align: middle;\n",
       "    }\n",
       "\n",
       "    .dataframe tbody tr th {\n",
       "        vertical-align: top;\n",
       "    }\n",
       "\n",
       "    .dataframe thead th {\n",
       "        text-align: right;\n",
       "    }\n",
       "</style>\n",
       "<table border=\"1\" class=\"dataframe\">\n",
       "  <thead>\n",
       "    <tr style=\"text-align: right;\">\n",
       "      <th></th>\n",
       "      <th>User ID</th>\n",
       "      <th>Heart Rate (BPM)</th>\n",
       "      <th>Blood Oxygen Level (%)</th>\n",
       "      <th>Step Count</th>\n",
       "      <th>Sleep Duration (hours)</th>\n",
       "      <th>Activity Level</th>\n",
       "      <th>Stress Level</th>\n",
       "    </tr>\n",
       "  </thead>\n",
       "  <tbody>\n",
       "    <tr>\n",
       "      <th>0</th>\n",
       "      <td>4174.0</td>\n",
       "      <td>58.939776</td>\n",
       "      <td>98.809650</td>\n",
       "      <td>5450.390578</td>\n",
       "      <td>7.167235622316564</td>\n",
       "      <td>Highly Active</td>\n",
       "      <td>1</td>\n",
       "    </tr>\n",
       "    <tr>\n",
       "      <th>1</th>\n",
       "      <td>NaN</td>\n",
       "      <td>NaN</td>\n",
       "      <td>98.532195</td>\n",
       "      <td>727.601610</td>\n",
       "      <td>6.538239375570314</td>\n",
       "      <td>Highly_Active</td>\n",
       "      <td>5</td>\n",
       "    </tr>\n",
       "    <tr>\n",
       "      <th>2</th>\n",
       "      <td>1860.0</td>\n",
       "      <td>247.803052</td>\n",
       "      <td>97.052954</td>\n",
       "      <td>2826.521994</td>\n",
       "      <td>ERROR</td>\n",
       "      <td>Highly Active</td>\n",
       "      <td>5</td>\n",
       "    </tr>\n",
       "    <tr>\n",
       "      <th>3</th>\n",
       "      <td>2294.0</td>\n",
       "      <td>40.000000</td>\n",
       "      <td>96.894213</td>\n",
       "      <td>13797.338044</td>\n",
       "      <td>7.367789630207228</td>\n",
       "      <td>Actve</td>\n",
       "      <td>3</td>\n",
       "    </tr>\n",
       "    <tr>\n",
       "      <th>4</th>\n",
       "      <td>2130.0</td>\n",
       "      <td>61.950165</td>\n",
       "      <td>98.583797</td>\n",
       "      <td>15679.067648</td>\n",
       "      <td>NaN</td>\n",
       "      <td>Highly_Active</td>\n",
       "      <td>6</td>\n",
       "    </tr>\n",
       "    <tr>\n",
       "      <th>...</th>\n",
       "      <td>...</td>\n",
       "      <td>...</td>\n",
       "      <td>...</td>\n",
       "      <td>...</td>\n",
       "      <td>...</td>\n",
       "      <td>...</td>\n",
       "      <td>...</td>\n",
       "    </tr>\n",
       "    <tr>\n",
       "      <th>9995</th>\n",
       "      <td>1524.0</td>\n",
       "      <td>78.819386</td>\n",
       "      <td>98.931927</td>\n",
       "      <td>2948.491953</td>\n",
       "      <td>7.402748595032027</td>\n",
       "      <td>Active</td>\n",
       "      <td>7</td>\n",
       "    </tr>\n",
       "    <tr>\n",
       "      <th>9996</th>\n",
       "      <td>4879.0</td>\n",
       "      <td>48.632659</td>\n",
       "      <td>95.773035</td>\n",
       "      <td>4725.623070</td>\n",
       "      <td>6.3821659358529015</td>\n",
       "      <td>Sedentary</td>\n",
       "      <td>2</td>\n",
       "    </tr>\n",
       "    <tr>\n",
       "      <th>9997</th>\n",
       "      <td>2624.0</td>\n",
       "      <td>73.834442</td>\n",
       "      <td>97.945874</td>\n",
       "      <td>2571.492060</td>\n",
       "      <td>6.91654920303435</td>\n",
       "      <td>Sedentary</td>\n",
       "      <td>4</td>\n",
       "    </tr>\n",
       "    <tr>\n",
       "      <th>9998</th>\n",
       "      <td>4907.0</td>\n",
       "      <td>NaN</td>\n",
       "      <td>98.401058</td>\n",
       "      <td>3364.788855</td>\n",
       "      <td>5.691233932149209</td>\n",
       "      <td>Active</td>\n",
       "      <td>8</td>\n",
       "    </tr>\n",
       "    <tr>\n",
       "      <th>9999</th>\n",
       "      <td>4113.0</td>\n",
       "      <td>70.063864</td>\n",
       "      <td>98.475606</td>\n",
       "      <td>544.696104</td>\n",
       "      <td>5.691001039740254</td>\n",
       "      <td>Actve</td>\n",
       "      <td>5</td>\n",
       "    </tr>\n",
       "  </tbody>\n",
       "</table>\n",
       "<p>10000 rows × 7 columns</p>\n",
       "</div>"
      ],
      "text/plain": [
       "      User ID  Heart Rate (BPM)  Blood Oxygen Level (%)    Step Count  \\\n",
       "0      4174.0         58.939776               98.809650   5450.390578   \n",
       "1         NaN               NaN               98.532195    727.601610   \n",
       "2      1860.0        247.803052               97.052954   2826.521994   \n",
       "3      2294.0         40.000000               96.894213  13797.338044   \n",
       "4      2130.0         61.950165               98.583797  15679.067648   \n",
       "...       ...               ...                     ...           ...   \n",
       "9995   1524.0         78.819386               98.931927   2948.491953   \n",
       "9996   4879.0         48.632659               95.773035   4725.623070   \n",
       "9997   2624.0         73.834442               97.945874   2571.492060   \n",
       "9998   4907.0               NaN               98.401058   3364.788855   \n",
       "9999   4113.0         70.063864               98.475606    544.696104   \n",
       "\n",
       "     Sleep Duration (hours) Activity Level Stress Level  \n",
       "0         7.167235622316564  Highly Active            1  \n",
       "1         6.538239375570314  Highly_Active            5  \n",
       "2                     ERROR  Highly Active            5  \n",
       "3         7.367789630207228          Actve            3  \n",
       "4                       NaN  Highly_Active            6  \n",
       "...                     ...            ...          ...  \n",
       "9995      7.402748595032027         Active            7  \n",
       "9996     6.3821659358529015      Sedentary            2  \n",
       "9997       6.91654920303435      Sedentary            4  \n",
       "9998      5.691233932149209         Active            8  \n",
       "9999      5.691001039740254          Actve            5  \n",
       "\n",
       "[10000 rows x 7 columns]"
      ]
     },
     "execution_count": 10,
     "metadata": {},
     "output_type": "execute_result"
    }
   ],
   "source": [
    "smartwatch = pd.read_csv(\"unclean_smartwatch_health_data.csv\")\n",
    "smartwatch"
   ]
  },
  {
   "cell_type": "markdown",
   "metadata": {},
   "source": [
    "Let's start together with the Heart Rate column. Just looking at the preview table above we can see two things right away: (1) we have `NaN` values meaning data was not collected for those individuals, and (2) some of the heart rate values are abnormally high i.e. `247.803052`. Let's see what the entire range of values look like. "
   ]
  },
  {
   "cell_type": "code",
   "execution_count": 11,
   "metadata": {},
   "outputs": [
    {
     "name": "stdout",
     "output_type": "stream",
     "text": [
      "40.0 296.5939695131042\n"
     ]
    }
   ],
   "source": [
    "print(smartwatch['Heart Rate (BPM)'].min(), smartwatch['Heart Rate (BPM)'].max())"
   ]
  },
  {
   "cell_type": "markdown",
   "metadata": {},
   "source": [
    "**Question 1**: Set the variables below equal to the minimum heart rate and the maximum heart rate in the dataset. This is just practice for the method of checking answers as you go. Afterwards run the cell below to check your answer. "
   ]
  },
  {
   "cell_type": "code",
   "execution_count": 12,
   "metadata": {},
   "outputs": [
    {
     "name": "stdout",
     "output_type": "stream",
     "text": [
      "40.0 296.5939695131042\n"
     ]
    }
   ],
   "source": [
    "minimumHeartRate = smartwatch['Heart Rate (BPM)'].min()\n",
    "maximumHeartRate = smartwatch['Heart Rate (BPM)'].max()\n",
    "\n",
    "print(minimumHeartRate, maximumHeartRate)"
   ]
  },
  {
   "cell_type": "code",
   "execution_count": 13,
   "metadata": {},
   "outputs": [
    {
     "data": {
      "text/html": [
       "<p><strong><pre style='display: inline;'>Question 1</pre></strong> passed! 🚀</p>"
      ],
      "text/plain": [
       "Question 1 results: All test cases passed!"
      ]
     },
     "execution_count": 13,
     "metadata": {},
     "output_type": "execute_result"
    }
   ],
   "source": [
    "grader.check('q1')"
   ]
  },
  {
   "cell_type": "markdown",
   "metadata": {},
   "source": [
    "Notice that the maximum value of `296` beats per minimute is WAY above normal range of heart rates. In fact, according to [heart.org](https://www.heart.org/en/healthy-living/fitness/fitness-basics/target-heart-rates) the highest estimated heart rate based on age ranges from 150 to 200 for adults. This will vary between individuals, but this is a good starting point for us to think about outliers in the heart rate values in this dataset. Let's see how many rows have missing data or heart rates above 200. "
   ]
  },
  {
   "cell_type": "code",
   "execution_count": 14,
   "metadata": {},
   "outputs": [
    {
     "name": "stdout",
     "output_type": "stream",
     "text": [
      "450\n"
     ]
    }
   ],
   "source": [
    "## select rows where Heart Rate is NaN or rows where the heart rate is above 200. \n",
    "# Emphasis on the usage of 'or' here, we want rows where either \n",
    "# scenario 1 (NaN) OR scenario 2 (>200) is true. \n",
    "\n",
    "outlierHeartRaterows = smartwatch[smartwatch['Heart Rate (BPM)'] > 200]\n",
    "nullHeartRaterows = smartwatch[smartwatch['Heart Rate (BPM)'].isnull()]\n",
    "\n",
    "print(len(outlierHeartRaterows) + len(nullHeartRaterows))"
   ]
  },
  {
   "cell_type": "code",
   "execution_count": 15,
   "metadata": {},
   "outputs": [
    {
     "name": "stdout",
     "output_type": "stream",
     "text": [
      "      User ID  Heart Rate (BPM)  Blood Oxygen Level (%)    Step Count  \\\n",
      "2      1860.0        247.803052               97.052954   2826.521994   \n",
      "337    2369.0        200.491642               95.441773   2998.761919   \n",
      "393    2443.0        219.199178               95.497181   1227.804688   \n",
      "403    3200.0        232.944907               96.011492   9402.746140   \n",
      "595    2129.0        264.467356               97.161853   2555.402184   \n",
      "649    2008.0        226.256725               98.356789   2739.171166   \n",
      "818    3156.0        265.542910                     NaN   7281.778831   \n",
      "1195   3261.0        207.102188               99.652006   2867.872064   \n",
      "1391   4621.0        207.430243               96.688083  20577.677290   \n",
      "1602   4737.0        215.194681               95.095839  16072.283561   \n",
      "2023      NaN        204.067811               99.032130  17620.765455   \n",
      "2211   2711.0        209.773924               97.852781   1786.998129   \n",
      "2212   4020.0        228.498078               95.280955   3794.430590   \n",
      "2338   1762.0        256.377377               96.026123   9969.240744   \n",
      "2454   4902.0        283.585785               97.092166  11843.255005   \n",
      "3113   1035.0        292.923300               94.120618   5303.010562   \n",
      "3235   4478.0        282.863124               97.295126   2402.047207   \n",
      "3354   4976.0        243.876978               96.703748   4265.937611   \n",
      "3451   2768.0        284.055255               96.761963   4723.116194   \n",
      "3886   3856.0        271.495786               96.440489    841.196042   \n",
      "3983   1597.0        231.255442               99.396872  23860.187292   \n",
      "4146   1574.0        276.123983               98.386439   4255.759517   \n",
      "4185   4643.0        296.593970               95.415588  54698.646371   \n",
      "4254   3563.0        204.057610               95.768379   5871.602913   \n",
      "4275   1844.0        249.617291               97.847790   1855.481139   \n",
      "4366   2655.0        269.145975              100.000000  11331.922879   \n",
      "4509   4642.0        250.620679               97.983060   8526.218347   \n",
      "4521   4629.0        246.094144              100.000000   5614.112857   \n",
      "4780   2003.0        264.642812               98.242375   5299.159731   \n",
      "4792   3530.0        231.036287               99.960103   5396.348537   \n",
      "4833   4829.0        234.840936               97.920202  17207.114700   \n",
      "5090   4797.0        274.296904               98.647925   2604.794451   \n",
      "5170   2023.0        257.829686               94.316370    789.259057   \n",
      "5265   3277.0        263.375790              100.000000  10180.369091   \n",
      "5870   1499.0        283.483143               96.833301           NaN   \n",
      "6135   1389.0        250.848825               96.558205   2240.873043   \n",
      "6376   3218.0        256.006945               98.446205   8287.695252   \n",
      "6726   2338.0        202.412967               95.948327   3935.287388   \n",
      "6974   1935.0        252.998052               94.263021  25043.512031   \n",
      "7897   3488.0        219.280892               93.422300   1167.050964   \n",
      "8369   2283.0        288.257761                     NaN  21495.639335   \n",
      "8471   2706.0        291.403077               96.239663  19209.243829   \n",
      "8692   1698.0        214.349009               96.382266   3225.230149   \n",
      "8895   3294.0        231.696779              100.000000  18039.603487   \n",
      "8997      NaN        223.347514               96.643436   4226.877196   \n",
      "9164   3381.0        265.029967               98.982453   5247.004522   \n",
      "9438   4411.0        293.221756               99.524016  11209.020829   \n",
      "9654   2898.0        232.128828               96.082553     45.956119   \n",
      "9665   2069.0        273.862348               96.509094   5002.019249   \n",
      "9752   4683.0        251.490529               97.371766   5759.938203   \n",
      "\n",
      "     Sleep Duration (hours) Activity Level Stress Level  \n",
      "2                     ERROR  Highly Active            5  \n",
      "337       6.670622263019579  Highly Active            9  \n",
      "393       5.185244686595328  Highly_Active            9  \n",
      "403       7.190062873693008  Highly_Active            9  \n",
      "595       5.928628388578222  Highly Active            7  \n",
      "649       7.272009723254014  Highly_Active          NaN  \n",
      "818       4.300171191258864      Sedentary            3  \n",
      "1195      7.218530947169898         Active            7  \n",
      "1391      8.049854248644627         Active            3  \n",
      "1602       6.98847026102848          Actve            6  \n",
      "2023      7.641814526532746      Sedentary          NaN  \n",
      "2211      9.403363125752087         Active            5  \n",
      "2212      9.471210427832666     Seddentary            2  \n",
      "2338      7.434143975499938      Sedentary            4  \n",
      "2454     4.8230739165423175      Sedentary            5  \n",
      "3113      5.216491298730846         Active            4  \n",
      "3235       8.40664811517765     Seddentary            3  \n",
      "3354      6.272040953618372     Seddentary            4  \n",
      "3451      7.656776835132766  Highly Active            3  \n",
      "3886        8.5141016110168     Seddentary            7  \n",
      "3983       9.72770039263133  Highly Active           10  \n",
      "4146      9.950312577595927      Sedentary            1  \n",
      "4185        8.4611474189254            NaN           10  \n",
      "4254      6.169674782300074          Actve            3  \n",
      "4275      7.103458436811003      Sedentary            5  \n",
      "4366      6.252116628792069          Actve            8  \n",
      "4509      7.157804627096766  Highly Active            1  \n",
      "4521      6.304731924019175         Active            2  \n",
      "4780      8.471284845728434         Active            1  \n",
      "4792       5.03699852197675          Actve            4  \n",
      "4833       5.93139606422032  Highly_Active            3  \n",
      "5090      4.604169369845159  Highly Active            1  \n",
      "5170      4.456316515329178            NaN            6  \n",
      "5265      5.234907365011507      Sedentary            1  \n",
      "5870      7.221605491090915      Sedentary            9  \n",
      "6135      6.249638938845372  Highly_Active            7  \n",
      "6376      4.174557486059257  Highly Active           10  \n",
      "6726      9.145513040749627      Sedentary            1  \n",
      "6974      5.452934114413052  Highly_Active            6  \n",
      "7897     6.3843230507913775          Actve            7  \n",
      "8369      5.291653956497481  Highly_Active            2  \n",
      "8471       7.26153538491556          Actve            9  \n",
      "8692      6.801618776704774     Seddentary            6  \n",
      "8895      7.064974772457126         Active            9  \n",
      "8997     5.2023674086270795  Highly_Active            3  \n",
      "9164      9.026252817225515  Highly Active            6  \n",
      "9438                  ERROR  Highly Active            3  \n",
      "9654       5.63988977577483         Active            3  \n",
      "9665       7.82197109767565     Seddentary            2  \n",
      "9752      5.496136294267198      Sedentary            9  \n",
      "      User ID  Heart Rate (BPM)  Blood Oxygen Level (%)    Step Count  \\\n",
      "1         NaN               NaN               98.532195    727.601610   \n",
      "17     3919.0               NaN               96.052853   3488.919508   \n",
      "75     3945.0               NaN              100.000000   3124.118038   \n",
      "105    2981.0               NaN               98.276558   3039.112276   \n",
      "158    4099.0               NaN               99.478461  11559.663606   \n",
      "...       ...               ...                     ...           ...   \n",
      "9875      NaN               NaN               99.842527   4454.770218   \n",
      "9956   1476.0               NaN              100.000000   3584.236177   \n",
      "9971   1434.0               NaN               99.319841     26.215769   \n",
      "9990      NaN               NaN              100.000000   3817.269018   \n",
      "9998   4907.0               NaN               98.401058   3364.788855   \n",
      "\n",
      "     Sleep Duration (hours) Activity Level Stress Level  \n",
      "1         6.538239375570314  Highly_Active            5  \n",
      "17        6.718661172525927     Seddentary            4  \n",
      "75        4.229887888280923          Actve            1  \n",
      "105       5.209658021888749            NaN            6  \n",
      "158       6.470651489160172  Highly_Active            7  \n",
      "...                     ...            ...          ...  \n",
      "9875      5.520745925308887      Sedentary            3  \n",
      "9956      6.659533807452561  Highly_Active            5  \n",
      "9971      6.367659085134144         Active           10  \n",
      "9990      8.595259517189332     Seddentary            2  \n",
      "9998      5.691233932149209         Active            8  \n",
      "\n",
      "[400 rows x 7 columns]\n"
     ]
    }
   ],
   "source": [
    "print(outlierHeartRaterows) ##check by printing new row\n",
    "print(nullHeartRaterows)"
   ]
  },
  {
   "cell_type": "code",
   "execution_count": 16,
   "metadata": {},
   "outputs": [
    {
     "name": "stdout",
     "output_type": "stream",
     "text": [
      "      User ID  Heart Rate (BPM)  Blood Oxygen Level (%)    Step Count  \\\n",
      "0      4174.0         58.939776               98.809650   5450.390578   \n",
      "3      2294.0         40.000000               96.894213  13797.338044   \n",
      "4      2130.0         61.950165               98.583797  15679.067648   \n",
      "5      2095.0         96.285938               94.202910  10205.992256   \n",
      "6      4772.0         47.272257               95.389760   3208.781177   \n",
      "...       ...               ...                     ...           ...   \n",
      "9994   1942.0         77.912299               98.640583  10061.145291   \n",
      "9995   1524.0         78.819386               98.931927   2948.491953   \n",
      "9996   4879.0         48.632659               95.773035   4725.623070   \n",
      "9997   2624.0         73.834442               97.945874   2571.492060   \n",
      "9999   4113.0         70.063864               98.475606    544.696104   \n",
      "\n",
      "     Sleep Duration (hours) Activity Level Stress Level  \n",
      "0         7.167235622316564  Highly Active            1  \n",
      "3         7.367789630207228          Actve            3  \n",
      "4                       NaN  Highly_Active            6  \n",
      "5         8.378342673824589  Highly_Active           10  \n",
      "6         7.871146008904113     Seddentary            2  \n",
      "...                     ...            ...          ...  \n",
      "9994      5.428634630125767     Seddentary           10  \n",
      "9995      7.402748595032027         Active            7  \n",
      "9996     6.3821659358529015      Sedentary            2  \n",
      "9997       6.91654920303435      Sedentary            4  \n",
      "9999      5.691001039740254          Actve            5  \n",
      "\n",
      "[9550 rows x 7 columns]\n"
     ]
    }
   ],
   "source": [
    "## Now let's get a table of all the other rows. \n",
    "heartrateRows = smartwatch[(~smartwatch['Heart Rate (BPM)'].isnull()) & (smartwatch['Heart Rate (BPM)'] <= 200)]\n",
    "\n",
    "print(heartrateRows)"
   ]
  },
  {
   "cell_type": "markdown",
   "metadata": {},
   "source": [
    "**Question 2:** \n",
    "\n",
    "Notice here that the length of the two tables (`450` and `9550`) add up to the total number rows (`n=10000`). This is a good sanity check as we manipulate the table. Now we have to decide how we deal with these missing values and outliers. One method to do this would be remove all the rows with null values or outlier values. Another method is use imputation - this can be done in several ways but below we're going to substitute the average heart rate for the missing and mismeasured values. Do we think this will change the mean?"
   ]
  },
  {
   "cell_type": "code",
   "execution_count": 17,
   "metadata": {},
   "outputs": [
    {
     "name": "stdout",
     "output_type": "stream",
     "text": [
      "75.13268404820141\n"
     ]
    }
   ],
   "source": [
    "HeartRateMean = heartrateRows['Heart Rate (BPM)'].mean()\n",
    "print(HeartRateMean)"
   ]
  },
  {
   "cell_type": "code",
   "execution_count": 18,
   "metadata": {},
   "outputs": [
    {
     "name": "stdout",
     "output_type": "stream",
     "text": [
      "      User ID  Heart Rate (BPM)  Blood Oxygen Level (%)    Step Count  \\\n",
      "2      1860.0         75.132684               97.052954   2826.521994   \n",
      "337    2369.0         75.132684               95.441773   2998.761919   \n",
      "393    2443.0         75.132684               95.497181   1227.804688   \n",
      "403    3200.0         75.132684               96.011492   9402.746140   \n",
      "595    2129.0         75.132684               97.161853   2555.402184   \n",
      "649    2008.0         75.132684               98.356789   2739.171166   \n",
      "818    3156.0         75.132684                     NaN   7281.778831   \n",
      "1195   3261.0         75.132684               99.652006   2867.872064   \n",
      "1391   4621.0         75.132684               96.688083  20577.677290   \n",
      "1602   4737.0         75.132684               95.095839  16072.283561   \n",
      "2023      NaN         75.132684               99.032130  17620.765455   \n",
      "2211   2711.0         75.132684               97.852781   1786.998129   \n",
      "2212   4020.0         75.132684               95.280955   3794.430590   \n",
      "2338   1762.0         75.132684               96.026123   9969.240744   \n",
      "2454   4902.0         75.132684               97.092166  11843.255005   \n",
      "3113   1035.0         75.132684               94.120618   5303.010562   \n",
      "3235   4478.0         75.132684               97.295126   2402.047207   \n",
      "3354   4976.0         75.132684               96.703748   4265.937611   \n",
      "3451   2768.0         75.132684               96.761963   4723.116194   \n",
      "3886   3856.0         75.132684               96.440489    841.196042   \n",
      "3983   1597.0         75.132684               99.396872  23860.187292   \n",
      "4146   1574.0         75.132684               98.386439   4255.759517   \n",
      "4185   4643.0         75.132684               95.415588  54698.646371   \n",
      "4254   3563.0         75.132684               95.768379   5871.602913   \n",
      "4275   1844.0         75.132684               97.847790   1855.481139   \n",
      "4366   2655.0         75.132684              100.000000  11331.922879   \n",
      "4509   4642.0         75.132684               97.983060   8526.218347   \n",
      "4521   4629.0         75.132684              100.000000   5614.112857   \n",
      "4780   2003.0         75.132684               98.242375   5299.159731   \n",
      "4792   3530.0         75.132684               99.960103   5396.348537   \n",
      "4833   4829.0         75.132684               97.920202  17207.114700   \n",
      "5090   4797.0         75.132684               98.647925   2604.794451   \n",
      "5170   2023.0         75.132684               94.316370    789.259057   \n",
      "5265   3277.0         75.132684              100.000000  10180.369091   \n",
      "5870   1499.0         75.132684               96.833301           NaN   \n",
      "6135   1389.0         75.132684               96.558205   2240.873043   \n",
      "6376   3218.0         75.132684               98.446205   8287.695252   \n",
      "6726   2338.0         75.132684               95.948327   3935.287388   \n",
      "6974   1935.0         75.132684               94.263021  25043.512031   \n",
      "7897   3488.0         75.132684               93.422300   1167.050964   \n",
      "8369   2283.0         75.132684                     NaN  21495.639335   \n",
      "8471   2706.0         75.132684               96.239663  19209.243829   \n",
      "8692   1698.0         75.132684               96.382266   3225.230149   \n",
      "8895   3294.0         75.132684              100.000000  18039.603487   \n",
      "8997      NaN         75.132684               96.643436   4226.877196   \n",
      "9164   3381.0         75.132684               98.982453   5247.004522   \n",
      "9438   4411.0         75.132684               99.524016  11209.020829   \n",
      "9654   2898.0         75.132684               96.082553     45.956119   \n",
      "9665   2069.0         75.132684               96.509094   5002.019249   \n",
      "9752   4683.0         75.132684               97.371766   5759.938203   \n",
      "\n",
      "     Sleep Duration (hours) Activity Level Stress Level  \n",
      "2                     ERROR  Highly Active            5  \n",
      "337       6.670622263019579  Highly Active            9  \n",
      "393       5.185244686595328  Highly_Active            9  \n",
      "403       7.190062873693008  Highly_Active            9  \n",
      "595       5.928628388578222  Highly Active            7  \n",
      "649       7.272009723254014  Highly_Active          NaN  \n",
      "818       4.300171191258864      Sedentary            3  \n",
      "1195      7.218530947169898         Active            7  \n",
      "1391      8.049854248644627         Active            3  \n",
      "1602       6.98847026102848          Actve            6  \n",
      "2023      7.641814526532746      Sedentary          NaN  \n",
      "2211      9.403363125752087         Active            5  \n",
      "2212      9.471210427832666     Seddentary            2  \n",
      "2338      7.434143975499938      Sedentary            4  \n",
      "2454     4.8230739165423175      Sedentary            5  \n",
      "3113      5.216491298730846         Active            4  \n",
      "3235       8.40664811517765     Seddentary            3  \n",
      "3354      6.272040953618372     Seddentary            4  \n",
      "3451      7.656776835132766  Highly Active            3  \n",
      "3886        8.5141016110168     Seddentary            7  \n",
      "3983       9.72770039263133  Highly Active           10  \n",
      "4146      9.950312577595927      Sedentary            1  \n",
      "4185        8.4611474189254            NaN           10  \n",
      "4254      6.169674782300074          Actve            3  \n",
      "4275      7.103458436811003      Sedentary            5  \n",
      "4366      6.252116628792069          Actve            8  \n",
      "4509      7.157804627096766  Highly Active            1  \n",
      "4521      6.304731924019175         Active            2  \n",
      "4780      8.471284845728434         Active            1  \n",
      "4792       5.03699852197675          Actve            4  \n",
      "4833       5.93139606422032  Highly_Active            3  \n",
      "5090      4.604169369845159  Highly Active            1  \n",
      "5170      4.456316515329178            NaN            6  \n",
      "5265      5.234907365011507      Sedentary            1  \n",
      "5870      7.221605491090915      Sedentary            9  \n",
      "6135      6.249638938845372  Highly_Active            7  \n",
      "6376      4.174557486059257  Highly Active           10  \n",
      "6726      9.145513040749627      Sedentary            1  \n",
      "6974      5.452934114413052  Highly_Active            6  \n",
      "7897     6.3843230507913775          Actve            7  \n",
      "8369      5.291653956497481  Highly_Active            2  \n",
      "8471       7.26153538491556          Actve            9  \n",
      "8692      6.801618776704774     Seddentary            6  \n",
      "8895      7.064974772457126         Active            9  \n",
      "8997     5.2023674086270795  Highly_Active            3  \n",
      "9164      9.026252817225515  Highly Active            6  \n",
      "9438                  ERROR  Highly Active            3  \n",
      "9654       5.63988977577483         Active            3  \n",
      "9665       7.82197109767565     Seddentary            2  \n",
      "9752      5.496136294267198      Sedentary            9  \n"
     ]
    },
    {
     "name": "stderr",
     "output_type": "stream",
     "text": [
      "/tmp/ipykernel_2118/936369900.py:1: SettingWithCopyWarning: \n",
      "A value is trying to be set on a copy of a slice from a DataFrame.\n",
      "Try using .loc[row_indexer,col_indexer] = value instead\n",
      "\n",
      "See the caveats in the documentation: https://pandas.pydata.org/pandas-docs/stable/user_guide/indexing.html#returning-a-view-versus-a-copy\n",
      "  outlierHeartRaterows['Heart Rate (BPM)'] = HeartRateMean\n",
      "/tmp/ipykernel_2118/936369900.py:2: SettingWithCopyWarning: \n",
      "A value is trying to be set on a copy of a slice from a DataFrame.\n",
      "Try using .loc[row_indexer,col_indexer] = value instead\n",
      "\n",
      "See the caveats in the documentation: https://pandas.pydata.org/pandas-docs/stable/user_guide/indexing.html#returning-a-view-versus-a-copy\n",
      "  nullHeartRaterows['Heart Rate (BPM)'] = HeartRateMean\n"
     ]
    }
   ],
   "source": [
    "outlierHeartRaterows['Heart Rate (BPM)'] = HeartRateMean\n",
    "nullHeartRaterows['Heart Rate (BPM)'] = HeartRateMean\n",
    "\n",
    "\n",
    "print(outlierHeartRaterows)"
   ]
  },
  {
   "cell_type": "code",
   "execution_count": 35,
   "metadata": {},
   "outputs": [
    {
     "name": "stdout",
     "output_type": "stream",
     "text": [
      "75.13268404820141\n"
     ]
    }
   ],
   "source": [
    "smartwatch_hr = pd.concat([outlierHeartRaterows, nullHeartRaterows, heartrateRows])\n",
    "\n",
    "fullTableHRMean = smartwatch_hr['Heart Rate (BPM)'].mean()\n",
    "print(fullTableHRMean)"
   ]
  },
  {
   "cell_type": "code",
   "execution_count": 36,
   "metadata": {},
   "outputs": [
    {
     "data": {
      "text/html": [
       "<p><strong style='color: red;'><pre style='display: inline;'>Question 2</pre> results:</strong></p><p><strong><pre style='display: inline;'>Question 2 - 1</pre> result:</strong></p><pre>    ❌ Test case failed\n",
       "    Trying:\n",
       "        bool((HeartRateMean == 75.13268404820141) or (HeartRateMean == np.float64(75.13268404820141)))\n",
       "    Expecting:\n",
       "        True\n",
       "    ok\n",
       "    Trying:\n",
       "        HeartRateMean == fullTableHRMean\n",
       "    Expecting:\n",
       "        True\n",
       "    **********************************************************************\n",
       "    Line 5, in Question 2 0\n",
       "    Failed example:\n",
       "        HeartRateMean == fullTableHRMean\n",
       "    Expected:\n",
       "        True\n",
       "    Got:\n",
       "        np.True_\n",
       "</pre>"
      ],
      "text/plain": [
       "Question 2 results:\n",
       "    Question 2 - 1 result:\n",
       "        ❌ Test case failed\n",
       "        Trying:\n",
       "            bool((HeartRateMean == 75.13268404820141) or (HeartRateMean == np.float64(75.13268404820141)))\n",
       "        Expecting:\n",
       "            True\n",
       "        ok\n",
       "        Trying:\n",
       "            HeartRateMean == fullTableHRMean\n",
       "        Expecting:\n",
       "            True\n",
       "        **********************************************************************\n",
       "        Line 5, in Question 2 0\n",
       "        Failed example:\n",
       "            HeartRateMean == fullTableHRMean\n",
       "        Expected:\n",
       "            True\n",
       "        Got:\n",
       "            np.True_"
      ]
     },
     "execution_count": 36,
     "metadata": {},
     "output_type": "execute_result"
    }
   ],
   "source": [
    "grader.check('q2')"
   ]
  },
  {
   "cell_type": "markdown",
   "metadata": {},
   "source": [
    "Notice how the mean doesn't change when you use the imputed mean as the substituted values. However, as a note this will change the distribution of values and has the potential to obscure the causes of missing values or outliers. "
   ]
  },
  {
   "cell_type": "code",
   "execution_count": 37,
   "metadata": {},
   "outputs": [
    {
     "data": {
      "text/plain": [
       "<matplotlib.legend.Legend at 0x7b7d2e95e360>"
      ]
     },
     "execution_count": 37,
     "metadata": {},
     "output_type": "execute_result"
    },
    {
     "data": {
      "image/png": "[encoded data removed]",
      "text/plain": [
       "<Figure size 640x480 with 1 Axes>"
      ]
     },
     "metadata": {},
     "output_type": "display_data"
    }
   ],
   "source": [
    "sns.histplot(smartwatch['Heart Rate (BPM)'], label ='With Missing Values and Outliers')\n",
    "sns.histplot(smartwatch_hr['Heart Rate (BPM)'], label = 'With Mean as Imputed Value')\n",
    "plt.legend()"
   ]
  },
  {
   "cell_type": "markdown",
   "metadata": {},
   "source": [
    "**Question 3**: How does the imputation method affect the median values?  Remember the table `smartwatch` remains unchanged and can be used to find the original median value. \n",
    "\n",
    "ANSWER: \n",
    "The imputation method affected the median value almost negligably. The imputated median value is 75.146, while the original median is 75.221, which is only a .075 difference. This slight change is likely because the imputed values create a median that is closer to the mean, because there are not as many outliers. The graphs are also negligably different."
   ]
  },
  {
   "cell_type": "code",
   "execution_count": 38,
   "metadata": {},
   "outputs": [
    {
     "name": "stdout",
     "output_type": "stream",
     "text": [
      "75.14626274239524\n",
      "75.22060125775644\n"
     ]
    }
   ],
   "source": [
    "## coding cell to check the difference in median values \n",
    "\n",
    "HeartRateMedian = heartrateRows['Heart Rate (BPM)'].median()\n",
    "print(HeartRateMedian) ##check heart rate median with outliers\n",
    "\n",
    "print(smartwatch['Heart Rate (BPM)'].median())\n"
   ]
  },
  {
   "cell_type": "markdown",
   "metadata": {},
   "source": [
    "Now let's repeat this process for the other columns as well. \n",
    "\n",
    "**Question 4**: Find the minimum, maximum, and mean Blood Oxygen Level. "
   ]
  },
  {
   "cell_type": "code",
   "execution_count": 39,
   "metadata": {},
   "outputs": [
    {
     "name": "stdout",
     "output_type": "stream",
     "text": [
      "90.79120814564097 100.0 97.84158102099076\n"
     ]
    }
   ],
   "source": [
    "minBloodO2 = smartwatch['Blood Oxygen Level (%)'].min()\n",
    "\n",
    "maxBloodO2 =  smartwatch['Blood Oxygen Level (%)'].max()\n",
    "\n",
    "meanBloodO2 = smartwatch['Blood Oxygen Level (%)'].mean()\n",
    "\n",
    "print(minBloodO2, maxBloodO2, meanBloodO2)"
   ]
  },
  {
   "cell_type": "code",
   "execution_count": 24,
   "metadata": {},
   "outputs": [
    {
     "data": {
      "text/html": [
       "<p><strong><pre style='display: inline;'>Question 4</pre></strong> passed! 💯</p>"
      ],
      "text/plain": [
       "Question 4 results: All test cases passed!"
      ]
     },
     "execution_count": 24,
     "metadata": {},
     "output_type": "execute_result"
    }
   ],
   "source": [
    "grader.check('q4')"
   ]
  },
  {
   "cell_type": "markdown",
   "metadata": {},
   "source": [
    "We can do some visualizations using a box plot to better decide if there's any outliers we'd like to remove. Maybe you decide that everything below 92.5 is an outlier should be removed or maybe you decide to keep all of the values or maybe you decide to remove all values under 94% since that falls outside of a normal, healthy range according to doctors (I would not suggest this last one as it would obscure quite a bit of data! But some analysts might consider it!). In question 5, you can make that decision and justify your answer. "
   ]
  },
  {
   "cell_type": "code",
   "execution_count": 40,
   "metadata": {},
   "outputs": [
    {
     "data": {
      "text/plain": [
       "<Axes: ylabel='Blood Oxygen Level (%)'>"
      ]
     },
     "execution_count": 40,
     "metadata": {},
     "output_type": "execute_result"
    },
    {
     "data": {
      "image/png": "[encoded data removed]",
      "text/plain": [
       "<Figure size 640x480 with 1 Axes>"
      ]
     },
     "metadata": {},
     "output_type": "display_data"
    }
   ],
   "source": [
    "sns.boxplot(smartwatch['Blood Oxygen Level (%)'])"
   ]
  },
  {
   "cell_type": "markdown",
   "metadata": {},
   "source": [
    "**Question 5**: Decide how you want to deal with missing and outlier values in the Blood Oxygen Level column. Set your final table equal to the variable `smartwatch_o2`. Use the space below to explain your decisions. \n",
    "\n",
    "Notes: Refer to [this article](https://pmc.ncbi.nlm.nih.gov/articles/PMC5548942/) on methods of handling these type of instances in data. Keep in mind, you might find that either there are no missing values or no outliers. That's okay, just indicate that in the written space below and update the table i.e. `smartwatch_o2 = smartwatch_hr`\n",
    "\n",
    "ANSWER: \n",
    "I got rid of all null blood oxygen rows, but did not identify any outliers like we did with BPM > 200. This is because I could not identify any outliers of that nature, but did find it relevant to remove null values. I chose not to use imputation in this scenario to test out a different idea than we used with the heart rate rows. It is important to note that while imputation might work in this scenario, because we are only really looking at averages of the dataset, there are scenarios in which imputation may cause issues beacause it creates a new distribution and mean. "
   ]
  },
  {
   "cell_type": "code",
   "execution_count": 41,
   "metadata": {},
   "outputs": [
    {
     "name": "stdout",
     "output_type": "stream",
     "text": [
      "      User ID  Heart Rate (BPM)  Blood Oxygen Level (%)    Step Count  \\\n",
      "2      1860.0         75.132684               97.052954   2826.521994   \n",
      "337    2369.0         75.132684               95.441773   2998.761919   \n",
      "393    2443.0         75.132684               95.497181   1227.804688   \n",
      "403    3200.0         75.132684               96.011492   9402.746140   \n",
      "595    2129.0         75.132684               97.161853   2555.402184   \n",
      "...       ...               ...                     ...           ...   \n",
      "9994   1942.0         77.912299               98.640583  10061.145291   \n",
      "9995   1524.0         78.819386               98.931927   2948.491953   \n",
      "9996   4879.0         48.632659               95.773035   4725.623070   \n",
      "9997   2624.0         73.834442               97.945874   2571.492060   \n",
      "9999   4113.0         70.063864               98.475606    544.696104   \n",
      "\n",
      "     Sleep Duration (hours) Activity Level Stress Level  \n",
      "2                     ERROR  Highly Active            5  \n",
      "337       6.670622263019579  Highly Active            9  \n",
      "393       5.185244686595328  Highly_Active            9  \n",
      "403       7.190062873693008  Highly_Active            9  \n",
      "595       5.928628388578222  Highly Active            7  \n",
      "...                     ...            ...          ...  \n",
      "9994      5.428634630125767     Seddentary           10  \n",
      "9995      7.402748595032027         Active            7  \n",
      "9996     6.3821659358529015      Sedentary            2  \n",
      "9997       6.91654920303435      Sedentary            4  \n",
      "9999      5.691001039740254          Actve            5  \n",
      "\n",
      "[9700 rows x 7 columns]\n"
     ]
    }
   ],
   "source": [
    "## use this space or additional cells to deal with the missing/outlier values. \n",
    "\n",
    "\n",
    "nullBloodo2 = smartwatch[smartwatch['Blood Oxygen Level (%)'].isnull()]\n",
    "\n",
    "smartwatch_o2 = smartwatch_hr[(~smartwatch_hr['Blood Oxygen Level (%)'].isnull())]\n",
    "\n",
    "print(smartwatch_o2)"
   ]
  },
  {
   "cell_type": "markdown",
   "metadata": {},
   "source": [
    "Moving onto the Step Count column. \n",
    "\n",
    "**Question 6**: Find the minimum, maximum, and mean step counts. "
   ]
  },
  {
   "cell_type": "code",
   "execution_count": 42,
   "metadata": {},
   "outputs": [
    {
     "name": "stdout",
     "output_type": "stream",
     "text": [
      "0.9101380609604088 62486.690753464914 6985.685884992229\n"
     ]
    }
   ],
   "source": [
    "minSteps = smartwatch['Step Count'].min()\n",
    "\n",
    "maxSteps = smartwatch['Step Count'].max()\n",
    "\n",
    "meanSteps = smartwatch['Step Count'].mean()\n",
    "\n",
    "print(minSteps, maxSteps, meanSteps)"
   ]
  },
  {
   "cell_type": "code",
   "execution_count": 43,
   "metadata": {},
   "outputs": [
    {
     "data": {
      "text/html": [
       "<p><strong><pre style='display: inline;'>Question 6</pre></strong> passed! ✨</p>"
      ],
      "text/plain": [
       "Question 6 results: All test cases passed!"
      ]
     },
     "execution_count": 43,
     "metadata": {},
     "output_type": "execute_result"
    }
   ],
   "source": [
    "grader.check('q6')"
   ]
  },
  {
   "cell_type": "markdown",
   "metadata": {},
   "source": [
    "**Question 7**: Decide how you want to deal with missing and outlier values in the Steps column. Set your final table equal to the variable `smartwatch_steps`. Use the space below to explain your decisions. \n",
    "\n",
    "Notes: Refer to [this article](https://pmc.ncbi.nlm.nih.gov/articles/PMC5548942/) on methods of handling these type of instances in data. Keep in mind, you might find that either there are no missing values or no outliers. That's okay, just indicate that in the written space below and update the table i.e. `smartwatch_steps = smartwatch_o2`\n",
    "\n",
    "ANSWER: I decided to eliminate null data points because the imputed and elimated medians had very similar results, so I felt like both graphs would be similar regardless of the path taken. I eliminated null data points by selecting the null points and then selecting rows where Step Count was not NaN."
   ]
  },
  {
   "cell_type": "code",
   "execution_count": 29,
   "metadata": {},
   "outputs": [
    {
     "name": "stdout",
     "output_type": "stream",
     "text": [
      "      User ID  Heart Rate (BPM)  Blood Oxygen Level (%)    Step Count  \\\n",
      "2      1860.0         75.132684               97.052954   2826.521994   \n",
      "337    2369.0         75.132684               95.441773   2998.761919   \n",
      "393    2443.0         75.132684               95.497181   1227.804688   \n",
      "403    3200.0         75.132684               96.011492   9402.746140   \n",
      "595    2129.0         75.132684               97.161853   2555.402184   \n",
      "...       ...               ...                     ...           ...   \n",
      "9994   1942.0         77.912299               98.640583  10061.145291   \n",
      "9995   1524.0         78.819386               98.931927   2948.491953   \n",
      "9996   4879.0         48.632659               95.773035   4725.623070   \n",
      "9997   2624.0         73.834442               97.945874   2571.492060   \n",
      "9999   4113.0         70.063864               98.475606    544.696104   \n",
      "\n",
      "     Sleep Duration (hours) Activity Level Stress Level  \n",
      "2                     ERROR  Highly Active            5  \n",
      "337       6.670622263019579  Highly Active            9  \n",
      "393       5.185244686595328  Highly_Active            9  \n",
      "403       7.190062873693008  Highly_Active            9  \n",
      "595       5.928628388578222  Highly Active            7  \n",
      "...                     ...            ...          ...  \n",
      "9994      5.428634630125767     Seddentary           10  \n",
      "9995      7.402748595032027         Active            7  \n",
      "9996     6.3821659358529015      Sedentary            2  \n",
      "9997       6.91654920303435      Sedentary            4  \n",
      "9999      5.691001039740254          Actve            5  \n",
      "\n",
      "[9601 rows x 7 columns]\n"
     ]
    }
   ],
   "source": [
    "## use this space or additional cells to address the missing or outlier data. \n",
    "\n",
    "smartwatch_steps = smartwatch_o2[smartwatch_o2['Step Count'].isnull()]\n",
    "\n",
    "smartwatch_steps = smartwatch_o2[(~smartwatch_o2['Step Count'].isnull())]\n",
    "\n",
    "print(smartwatch_steps)"
   ]
  },
  {
   "cell_type": "markdown",
   "metadata": {},
   "source": [
    "Next onto the Sleep Duration column. \n",
    "\n",
    "**Question 8**: Try finding the minimum number of hours slept among participants. "
   ]
  },
  {
   "cell_type": "code",
   "execution_count": 44,
   "metadata": {},
   "outputs": [
    {
     "ename": "TypeError",
     "evalue": "'<=' not supported between instances of 'str' and 'float'",
     "output_type": "error",
     "traceback": [
      "\u001b[0;31m---------------------------------------------------------------------------\u001b[0m",
      "\u001b[0;31mTypeError\u001b[0m                                 Traceback (most recent call last)",
      "Cell \u001b[0;32mIn[44], line 1\u001b[0m\n\u001b[0;32m----> 1\u001b[0m minSleep \u001b[38;5;241m=\u001b[39m \u001b[43msmartwatch\u001b[49m\u001b[43m[\u001b[49m\u001b[38;5;124;43m'\u001b[39;49m\u001b[38;5;124;43mSleep Duration (hours)\u001b[39;49m\u001b[38;5;124;43m'\u001b[39;49m\u001b[43m]\u001b[49m\u001b[38;5;241;43m.\u001b[39;49m\u001b[43mmin\u001b[49m\u001b[43m(\u001b[49m\u001b[43m)\u001b[49m\n\u001b[1;32m      3\u001b[0m \u001b[38;5;28mprint\u001b[39m(minSleep)\n",
      "File \u001b[0;32m~/.local/lib/python3.12/site-packages/pandas/core/series.py:6507\u001b[0m, in \u001b[0;36mSeries.min\u001b[0;34m(self, axis, skipna, numeric_only, **kwargs)\u001b[0m\n\u001b[1;32m   6499\u001b[0m \u001b[38;5;129m@doc\u001b[39m(make_doc(\u001b[38;5;124m\"\u001b[39m\u001b[38;5;124mmin\u001b[39m\u001b[38;5;124m\"\u001b[39m, ndim\u001b[38;5;241m=\u001b[39m\u001b[38;5;241m1\u001b[39m))\n\u001b[1;32m   6500\u001b[0m \u001b[38;5;28;01mdef\u001b[39;00m \u001b[38;5;21mmin\u001b[39m(\n\u001b[1;32m   6501\u001b[0m     \u001b[38;5;28mself\u001b[39m,\n\u001b[0;32m   (...)\u001b[0m\n\u001b[1;32m   6505\u001b[0m     \u001b[38;5;241m*\u001b[39m\u001b[38;5;241m*\u001b[39mkwargs,\n\u001b[1;32m   6506\u001b[0m ):\n\u001b[0;32m-> 6507\u001b[0m     \u001b[38;5;28;01mreturn\u001b[39;00m \u001b[43mNDFrame\u001b[49m\u001b[38;5;241;43m.\u001b[39;49m\u001b[43mmin\u001b[49m\u001b[43m(\u001b[49m\u001b[38;5;28;43mself\u001b[39;49m\u001b[43m,\u001b[49m\u001b[43m \u001b[49m\u001b[43maxis\u001b[49m\u001b[43m,\u001b[49m\u001b[43m \u001b[49m\u001b[43mskipna\u001b[49m\u001b[43m,\u001b[49m\u001b[43m \u001b[49m\u001b[43mnumeric_only\u001b[49m\u001b[43m,\u001b[49m\u001b[43m \u001b[49m\u001b[38;5;241;43m*\u001b[39;49m\u001b[38;5;241;43m*\u001b[39;49m\u001b[43mkwargs\u001b[49m\u001b[43m)\u001b[49m\n",
      "File \u001b[0;32m~/.local/lib/python3.12/site-packages/pandas/core/generic.py:12388\u001b[0m, in \u001b[0;36mNDFrame.min\u001b[0;34m(self, axis, skipna, numeric_only, **kwargs)\u001b[0m\n\u001b[1;32m  12381\u001b[0m \u001b[38;5;28;01mdef\u001b[39;00m \u001b[38;5;21mmin\u001b[39m(\n\u001b[1;32m  12382\u001b[0m     \u001b[38;5;28mself\u001b[39m,\n\u001b[1;32m  12383\u001b[0m     axis: Axis \u001b[38;5;241m|\u001b[39m \u001b[38;5;28;01mNone\u001b[39;00m \u001b[38;5;241m=\u001b[39m \u001b[38;5;241m0\u001b[39m,\n\u001b[0;32m   (...)\u001b[0m\n\u001b[1;32m  12386\u001b[0m     \u001b[38;5;241m*\u001b[39m\u001b[38;5;241m*\u001b[39mkwargs,\n\u001b[1;32m  12387\u001b[0m ):\n\u001b[0;32m> 12388\u001b[0m     \u001b[38;5;28;01mreturn\u001b[39;00m \u001b[38;5;28;43mself\u001b[39;49m\u001b[38;5;241;43m.\u001b[39;49m\u001b[43m_stat_function\u001b[49m\u001b[43m(\u001b[49m\n\u001b[1;32m  12389\u001b[0m \u001b[43m        \u001b[49m\u001b[38;5;124;43m\"\u001b[39;49m\u001b[38;5;124;43mmin\u001b[39;49m\u001b[38;5;124;43m\"\u001b[39;49m\u001b[43m,\u001b[49m\n\u001b[1;32m  12390\u001b[0m \u001b[43m        \u001b[49m\u001b[43mnanops\u001b[49m\u001b[38;5;241;43m.\u001b[39;49m\u001b[43mnanmin\u001b[49m\u001b[43m,\u001b[49m\n\u001b[1;32m  12391\u001b[0m \u001b[43m        \u001b[49m\u001b[43maxis\u001b[49m\u001b[43m,\u001b[49m\n\u001b[1;32m  12392\u001b[0m \u001b[43m        \u001b[49m\u001b[43mskipna\u001b[49m\u001b[43m,\u001b[49m\n\u001b[1;32m  12393\u001b[0m \u001b[43m        \u001b[49m\u001b[43mnumeric_only\u001b[49m\u001b[43m,\u001b[49m\n\u001b[1;32m  12394\u001b[0m \u001b[43m        \u001b[49m\u001b[38;5;241;43m*\u001b[39;49m\u001b[38;5;241;43m*\u001b[39;49m\u001b[43mkwargs\u001b[49m\u001b[43m,\u001b[49m\n\u001b[1;32m  12395\u001b[0m \u001b[43m    \u001b[49m\u001b[43m)\u001b[49m\n",
      "File \u001b[0;32m~/.local/lib/python3.12/site-packages/pandas/core/generic.py:12377\u001b[0m, in \u001b[0;36mNDFrame._stat_function\u001b[0;34m(self, name, func, axis, skipna, numeric_only, **kwargs)\u001b[0m\n\u001b[1;32m  12373\u001b[0m nv\u001b[38;5;241m.\u001b[39mvalidate_func(name, (), kwargs)\n\u001b[1;32m  12375\u001b[0m validate_bool_kwarg(skipna, \u001b[38;5;124m\"\u001b[39m\u001b[38;5;124mskipna\u001b[39m\u001b[38;5;124m\"\u001b[39m, none_allowed\u001b[38;5;241m=\u001b[39m\u001b[38;5;28;01mFalse\u001b[39;00m)\n\u001b[0;32m> 12377\u001b[0m \u001b[38;5;28;01mreturn\u001b[39;00m \u001b[38;5;28;43mself\u001b[39;49m\u001b[38;5;241;43m.\u001b[39;49m\u001b[43m_reduce\u001b[49m\u001b[43m(\u001b[49m\n\u001b[1;32m  12378\u001b[0m \u001b[43m    \u001b[49m\u001b[43mfunc\u001b[49m\u001b[43m,\u001b[49m\u001b[43m \u001b[49m\u001b[43mname\u001b[49m\u001b[38;5;241;43m=\u001b[39;49m\u001b[43mname\u001b[49m\u001b[43m,\u001b[49m\u001b[43m \u001b[49m\u001b[43maxis\u001b[49m\u001b[38;5;241;43m=\u001b[39;49m\u001b[43maxis\u001b[49m\u001b[43m,\u001b[49m\u001b[43m \u001b[49m\u001b[43mskipna\u001b[49m\u001b[38;5;241;43m=\u001b[39;49m\u001b[43mskipna\u001b[49m\u001b[43m,\u001b[49m\u001b[43m \u001b[49m\u001b[43mnumeric_only\u001b[49m\u001b[38;5;241;43m=\u001b[39;49m\u001b[43mnumeric_only\u001b[49m\n\u001b[1;32m  12379\u001b[0m \u001b[43m\u001b[49m\u001b[43m)\u001b[49m\n",
      "File \u001b[0;32m~/.local/lib/python3.12/site-packages/pandas/core/series.py:6457\u001b[0m, in \u001b[0;36mSeries._reduce\u001b[0;34m(self, op, name, axis, skipna, numeric_only, filter_type, **kwds)\u001b[0m\n\u001b[1;32m   6452\u001b[0m     \u001b[38;5;66;03m# GH#47500 - change to TypeError to match other methods\u001b[39;00m\n\u001b[1;32m   6453\u001b[0m     \u001b[38;5;28;01mraise\u001b[39;00m \u001b[38;5;167;01mTypeError\u001b[39;00m(\n\u001b[1;32m   6454\u001b[0m         \u001b[38;5;124mf\u001b[39m\u001b[38;5;124m\"\u001b[39m\u001b[38;5;124mSeries.\u001b[39m\u001b[38;5;132;01m{\u001b[39;00mname\u001b[38;5;132;01m}\u001b[39;00m\u001b[38;5;124m does not allow \u001b[39m\u001b[38;5;132;01m{\u001b[39;00mkwd_name\u001b[38;5;132;01m}\u001b[39;00m\u001b[38;5;124m=\u001b[39m\u001b[38;5;132;01m{\u001b[39;00mnumeric_only\u001b[38;5;132;01m}\u001b[39;00m\u001b[38;5;124m \u001b[39m\u001b[38;5;124m\"\u001b[39m\n\u001b[1;32m   6455\u001b[0m         \u001b[38;5;124m\"\u001b[39m\u001b[38;5;124mwith non-numeric dtypes.\u001b[39m\u001b[38;5;124m\"\u001b[39m\n\u001b[1;32m   6456\u001b[0m     )\n\u001b[0;32m-> 6457\u001b[0m \u001b[38;5;28;01mreturn\u001b[39;00m \u001b[43mop\u001b[49m\u001b[43m(\u001b[49m\u001b[43mdelegate\u001b[49m\u001b[43m,\u001b[49m\u001b[43m \u001b[49m\u001b[43mskipna\u001b[49m\u001b[38;5;241;43m=\u001b[39;49m\u001b[43mskipna\u001b[49m\u001b[43m,\u001b[49m\u001b[43m \u001b[49m\u001b[38;5;241;43m*\u001b[39;49m\u001b[38;5;241;43m*\u001b[39;49m\u001b[43mkwds\u001b[49m\u001b[43m)\u001b[49m\n",
      "File \u001b[0;32m~/.local/lib/python3.12/site-packages/pandas/core/nanops.py:147\u001b[0m, in \u001b[0;36mbottleneck_switch.__call__.<locals>.f\u001b[0;34m(values, axis, skipna, **kwds)\u001b[0m\n\u001b[1;32m    145\u001b[0m         result \u001b[38;5;241m=\u001b[39m alt(values, axis\u001b[38;5;241m=\u001b[39maxis, skipna\u001b[38;5;241m=\u001b[39mskipna, \u001b[38;5;241m*\u001b[39m\u001b[38;5;241m*\u001b[39mkwds)\n\u001b[1;32m    146\u001b[0m \u001b[38;5;28;01melse\u001b[39;00m:\n\u001b[0;32m--> 147\u001b[0m     result \u001b[38;5;241m=\u001b[39m \u001b[43malt\u001b[49m\u001b[43m(\u001b[49m\u001b[43mvalues\u001b[49m\u001b[43m,\u001b[49m\u001b[43m \u001b[49m\u001b[43maxis\u001b[49m\u001b[38;5;241;43m=\u001b[39;49m\u001b[43maxis\u001b[49m\u001b[43m,\u001b[49m\u001b[43m \u001b[49m\u001b[43mskipna\u001b[49m\u001b[38;5;241;43m=\u001b[39;49m\u001b[43mskipna\u001b[49m\u001b[43m,\u001b[49m\u001b[43m \u001b[49m\u001b[38;5;241;43m*\u001b[39;49m\u001b[38;5;241;43m*\u001b[39;49m\u001b[43mkwds\u001b[49m\u001b[43m)\u001b[49m\n\u001b[1;32m    149\u001b[0m \u001b[38;5;28;01mreturn\u001b[39;00m result\n",
      "File \u001b[0;32m~/.local/lib/python3.12/site-packages/pandas/core/nanops.py:404\u001b[0m, in \u001b[0;36m_datetimelike_compat.<locals>.new_func\u001b[0;34m(values, axis, skipna, mask, **kwargs)\u001b[0m\n\u001b[1;32m    401\u001b[0m \u001b[38;5;28;01mif\u001b[39;00m datetimelike \u001b[38;5;129;01mand\u001b[39;00m mask \u001b[38;5;129;01mis\u001b[39;00m \u001b[38;5;28;01mNone\u001b[39;00m:\n\u001b[1;32m    402\u001b[0m     mask \u001b[38;5;241m=\u001b[39m isna(values)\n\u001b[0;32m--> 404\u001b[0m result \u001b[38;5;241m=\u001b[39m \u001b[43mfunc\u001b[49m\u001b[43m(\u001b[49m\u001b[43mvalues\u001b[49m\u001b[43m,\u001b[49m\u001b[43m \u001b[49m\u001b[43maxis\u001b[49m\u001b[38;5;241;43m=\u001b[39;49m\u001b[43maxis\u001b[49m\u001b[43m,\u001b[49m\u001b[43m \u001b[49m\u001b[43mskipna\u001b[49m\u001b[38;5;241;43m=\u001b[39;49m\u001b[43mskipna\u001b[49m\u001b[43m,\u001b[49m\u001b[43m \u001b[49m\u001b[43mmask\u001b[49m\u001b[38;5;241;43m=\u001b[39;49m\u001b[43mmask\u001b[49m\u001b[43m,\u001b[49m\u001b[43m \u001b[49m\u001b[38;5;241;43m*\u001b[39;49m\u001b[38;5;241;43m*\u001b[39;49m\u001b[43mkwargs\u001b[49m\u001b[43m)\u001b[49m\n\u001b[1;32m    406\u001b[0m \u001b[38;5;28;01mif\u001b[39;00m datetimelike:\n\u001b[1;32m    407\u001b[0m     result \u001b[38;5;241m=\u001b[39m _wrap_results(result, orig_values\u001b[38;5;241m.\u001b[39mdtype, fill_value\u001b[38;5;241m=\u001b[39miNaT)\n",
      "File \u001b[0;32m~/.local/lib/python3.12/site-packages/pandas/core/nanops.py:1098\u001b[0m, in \u001b[0;36m_nanminmax.<locals>.reduction\u001b[0;34m(values, axis, skipna, mask)\u001b[0m\n\u001b[1;32m   1093\u001b[0m     \u001b[38;5;28;01mreturn\u001b[39;00m _na_for_min_count(values, axis)\n\u001b[1;32m   1095\u001b[0m values, mask \u001b[38;5;241m=\u001b[39m _get_values(\n\u001b[1;32m   1096\u001b[0m     values, skipna, fill_value_typ\u001b[38;5;241m=\u001b[39mfill_value_typ, mask\u001b[38;5;241m=\u001b[39mmask\n\u001b[1;32m   1097\u001b[0m )\n\u001b[0;32m-> 1098\u001b[0m result \u001b[38;5;241m=\u001b[39m \u001b[38;5;28;43mgetattr\u001b[39;49m\u001b[43m(\u001b[49m\u001b[43mvalues\u001b[49m\u001b[43m,\u001b[49m\u001b[43m \u001b[49m\u001b[43mmeth\u001b[49m\u001b[43m)\u001b[49m\u001b[43m(\u001b[49m\u001b[43maxis\u001b[49m\u001b[43m)\u001b[49m\n\u001b[1;32m   1099\u001b[0m result \u001b[38;5;241m=\u001b[39m _maybe_null_out(result, axis, mask, values\u001b[38;5;241m.\u001b[39mshape)\n\u001b[1;32m   1100\u001b[0m \u001b[38;5;28;01mreturn\u001b[39;00m result\n",
      "File \u001b[0;32m~/.local/lib/python3.12/site-packages/numpy/_core/_methods.py:48\u001b[0m, in \u001b[0;36m_amin\u001b[0;34m(a, axis, out, keepdims, initial, where)\u001b[0m\n\u001b[1;32m     46\u001b[0m \u001b[38;5;28;01mdef\u001b[39;00m \u001b[38;5;21m_amin\u001b[39m(a, axis\u001b[38;5;241m=\u001b[39m\u001b[38;5;28;01mNone\u001b[39;00m, out\u001b[38;5;241m=\u001b[39m\u001b[38;5;28;01mNone\u001b[39;00m, keepdims\u001b[38;5;241m=\u001b[39m\u001b[38;5;28;01mFalse\u001b[39;00m,\n\u001b[1;32m     47\u001b[0m           initial\u001b[38;5;241m=\u001b[39m_NoValue, where\u001b[38;5;241m=\u001b[39m\u001b[38;5;28;01mTrue\u001b[39;00m):\n\u001b[0;32m---> 48\u001b[0m     \u001b[38;5;28;01mreturn\u001b[39;00m \u001b[43mumr_minimum\u001b[49m\u001b[43m(\u001b[49m\u001b[43ma\u001b[49m\u001b[43m,\u001b[49m\u001b[43m \u001b[49m\u001b[43maxis\u001b[49m\u001b[43m,\u001b[49m\u001b[43m \u001b[49m\u001b[38;5;28;43;01mNone\u001b[39;49;00m\u001b[43m,\u001b[49m\u001b[43m \u001b[49m\u001b[43mout\u001b[49m\u001b[43m,\u001b[49m\u001b[43m \u001b[49m\u001b[43mkeepdims\u001b[49m\u001b[43m,\u001b[49m\u001b[43m \u001b[49m\u001b[43minitial\u001b[49m\u001b[43m,\u001b[49m\u001b[43m \u001b[49m\u001b[43mwhere\u001b[49m\u001b[43m)\u001b[49m\n",
      "\u001b[0;31mTypeError\u001b[0m: '<=' not supported between instances of 'str' and 'float'"
     ]
    }
   ],
   "source": [
    "minSleep = smartwatch['Sleep Duration (hours)'].min()\n",
    "\n",
    "print(minSleep)"
   ]
  },
  {
   "cell_type": "markdown",
   "metadata": {},
   "source": [
    "In the error message, you should see the phrase: \n",
    "\n",
    "`TypeError: '<=' not supported between instances of 'str' and 'float'`\n",
    "\n",
    "This means that the column is a combination of multiple data types. If you recall, we discussed computer readable data that columns HAVE to contain just a single data type. Having a combination of strings, characters, and numbers in a column will only cause more issues downstream. Let's try to figure out all the instances of non-numerical values in the column. \n",
    "\n",
    "First let's try to identify all the non-numerical values to make sure removing them doesn't obscure any important information. "
   ]
  },
  {
   "cell_type": "code",
   "execution_count": 45,
   "metadata": {},
   "outputs": [
    {
     "name": "stdout",
     "output_type": "stream",
     "text": [
      "ERROR\n"
     ]
    }
   ],
   "source": [
    "for hour in smartwatch['Sleep Duration (hours)'].unique():  ## Loop through each unique item in the column\n",
    "    try:\n",
    "        numericVal = float(hour)  ## first try to see if it can be converted to a number\n",
    "    except:\n",
    "        print(hour)  ## if it can't be converted print it to screen "
   ]
  },
  {
   "cell_type": "markdown",
   "metadata": {},
   "source": [
    "So, we find that the only non-numerical value is the string `ERROR`. We can fix this in two ways. First let's try fixing it by splitting the tables like we've done previously. "
   ]
  },
  {
   "cell_type": "code",
   "execution_count": 46,
   "metadata": {},
   "outputs": [
    {
     "data": {
      "text/html": [
       "<div>\n",
       "<style scoped>\n",
       "    .dataframe tbody tr th:only-of-type {\n",
       "        vertical-align: middle;\n",
       "    }\n",
       "\n",
       "    .dataframe tbody tr th {\n",
       "        vertical-align: top;\n",
       "    }\n",
       "\n",
       "    .dataframe thead th {\n",
       "        text-align: right;\n",
       "    }\n",
       "</style>\n",
       "<table border=\"1\" class=\"dataframe\">\n",
       "  <thead>\n",
       "    <tr style=\"text-align: right;\">\n",
       "      <th></th>\n",
       "      <th>User ID</th>\n",
       "      <th>Heart Rate (BPM)</th>\n",
       "      <th>Blood Oxygen Level (%)</th>\n",
       "      <th>Step Count</th>\n",
       "      <th>Sleep Duration (hours)</th>\n",
       "      <th>Activity Level</th>\n",
       "      <th>Stress Level</th>\n",
       "    </tr>\n",
       "  </thead>\n",
       "  <tbody>\n",
       "    <tr>\n",
       "      <th>2</th>\n",
       "      <td>1860.0</td>\n",
       "      <td>75.132684</td>\n",
       "      <td>97.052954</td>\n",
       "      <td>2826.521994</td>\n",
       "      <td>ERROR</td>\n",
       "      <td>Highly Active</td>\n",
       "      <td>5</td>\n",
       "    </tr>\n",
       "    <tr>\n",
       "      <th>9438</th>\n",
       "      <td>4411.0</td>\n",
       "      <td>75.132684</td>\n",
       "      <td>99.524016</td>\n",
       "      <td>11209.020829</td>\n",
       "      <td>ERROR</td>\n",
       "      <td>Highly Active</td>\n",
       "      <td>3</td>\n",
       "    </tr>\n",
       "    <tr>\n",
       "      <th>1262</th>\n",
       "      <td>4465.0</td>\n",
       "      <td>75.132684</td>\n",
       "      <td>97.113032</td>\n",
       "      <td>51.448103</td>\n",
       "      <td>ERROR</td>\n",
       "      <td>Highly_Active</td>\n",
       "      <td>6</td>\n",
       "    </tr>\n",
       "    <tr>\n",
       "      <th>2039</th>\n",
       "      <td>1492.0</td>\n",
       "      <td>75.132684</td>\n",
       "      <td>98.223658</td>\n",
       "      <td>7741.843501</td>\n",
       "      <td>ERROR</td>\n",
       "      <td>Highly_Active</td>\n",
       "      <td>5</td>\n",
       "    </tr>\n",
       "    <tr>\n",
       "      <th>2543</th>\n",
       "      <td>4441.0</td>\n",
       "      <td>75.132684</td>\n",
       "      <td>100.000000</td>\n",
       "      <td>12917.213806</td>\n",
       "      <td>ERROR</td>\n",
       "      <td>Sedentary</td>\n",
       "      <td>6</td>\n",
       "    </tr>\n",
       "    <tr>\n",
       "      <th>...</th>\n",
       "      <td>...</td>\n",
       "      <td>...</td>\n",
       "      <td>...</td>\n",
       "      <td>...</td>\n",
       "      <td>...</td>\n",
       "      <td>...</td>\n",
       "      <td>...</td>\n",
       "    </tr>\n",
       "    <tr>\n",
       "      <th>9901</th>\n",
       "      <td>2269.0</td>\n",
       "      <td>63.369107</td>\n",
       "      <td>96.229029</td>\n",
       "      <td>6656.786482</td>\n",
       "      <td>ERROR</td>\n",
       "      <td>Active</td>\n",
       "      <td>4</td>\n",
       "    </tr>\n",
       "    <tr>\n",
       "      <th>9912</th>\n",
       "      <td>2074.0</td>\n",
       "      <td>75.933666</td>\n",
       "      <td>97.386073</td>\n",
       "      <td>1813.072248</td>\n",
       "      <td>ERROR</td>\n",
       "      <td>Sedentary</td>\n",
       "      <td>10</td>\n",
       "    </tr>\n",
       "    <tr>\n",
       "      <th>9927</th>\n",
       "      <td>3007.0</td>\n",
       "      <td>87.579045</td>\n",
       "      <td>98.768633</td>\n",
       "      <td>3727.161872</td>\n",
       "      <td>ERROR</td>\n",
       "      <td>Active</td>\n",
       "      <td>1</td>\n",
       "    </tr>\n",
       "    <tr>\n",
       "      <th>9943</th>\n",
       "      <td>2961.0</td>\n",
       "      <td>91.834863</td>\n",
       "      <td>96.145378</td>\n",
       "      <td>38831.465057</td>\n",
       "      <td>ERROR</td>\n",
       "      <td>Active</td>\n",
       "      <td>4</td>\n",
       "    </tr>\n",
       "    <tr>\n",
       "      <th>9951</th>\n",
       "      <td>3104.0</td>\n",
       "      <td>70.335328</td>\n",
       "      <td>98.560133</td>\n",
       "      <td>1997.442874</td>\n",
       "      <td>ERROR</td>\n",
       "      <td>Highly_Active</td>\n",
       "      <td>9</td>\n",
       "    </tr>\n",
       "  </tbody>\n",
       "</table>\n",
       "<p>238 rows × 7 columns</p>\n",
       "</div>"
      ],
      "text/plain": [
       "      User ID  Heart Rate (BPM)  Blood Oxygen Level (%)    Step Count  \\\n",
       "2      1860.0         75.132684               97.052954   2826.521994   \n",
       "9438   4411.0         75.132684               99.524016  11209.020829   \n",
       "1262   4465.0         75.132684               97.113032     51.448103   \n",
       "2039   1492.0         75.132684               98.223658   7741.843501   \n",
       "2543   4441.0         75.132684              100.000000  12917.213806   \n",
       "...       ...               ...                     ...           ...   \n",
       "9901   2269.0         63.369107               96.229029   6656.786482   \n",
       "9912   2074.0         75.933666               97.386073   1813.072248   \n",
       "9927   3007.0         87.579045               98.768633   3727.161872   \n",
       "9943   2961.0         91.834863               96.145378  38831.465057   \n",
       "9951   3104.0         70.335328               98.560133   1997.442874   \n",
       "\n",
       "     Sleep Duration (hours) Activity Level Stress Level  \n",
       "2                     ERROR  Highly Active            5  \n",
       "9438                  ERROR  Highly Active            3  \n",
       "1262                  ERROR  Highly_Active            6  \n",
       "2039                  ERROR  Highly_Active            5  \n",
       "2543                  ERROR      Sedentary            6  \n",
       "...                     ...            ...          ...  \n",
       "9901                  ERROR         Active            4  \n",
       "9912                  ERROR      Sedentary           10  \n",
       "9927                  ERROR         Active            1  \n",
       "9943                  ERROR         Active            4  \n",
       "9951                  ERROR  Highly_Active            9  \n",
       "\n",
       "[238 rows x 7 columns]"
      ]
     },
     "execution_count": 46,
     "metadata": {},
     "output_type": "execute_result"
    }
   ],
   "source": [
    "errorTable = smartwatch_steps[smartwatch_steps['Sleep Duration (hours)'] == 'ERROR']\n",
    "errorTable"
   ]
  },
  {
   "cell_type": "markdown",
   "metadata": {},
   "source": [
    "Observe that we've created a table with the rows with `ERROR` in the sleep duration column. We can now replace with the `ERROR` value with our handy NaN value for doing numerical statistics. "
   ]
  },
  {
   "cell_type": "code",
   "execution_count": 47,
   "metadata": {},
   "outputs": [
    {
     "name": "stderr",
     "output_type": "stream",
     "text": [
      "/tmp/ipykernel_2118/2302362292.py:1: SettingWithCopyWarning: \n",
      "A value is trying to be set on a copy of a slice from a DataFrame.\n",
      "Try using .loc[row_indexer,col_indexer] = value instead\n",
      "\n",
      "See the caveats in the documentation: https://pandas.pydata.org/pandas-docs/stable/user_guide/indexing.html#returning-a-view-versus-a-copy\n",
      "  errorTable['Sleep Duration (hours)'] = np.nan\n"
     ]
    },
    {
     "data": {
      "text/html": [
       "<div>\n",
       "<style scoped>\n",
       "    .dataframe tbody tr th:only-of-type {\n",
       "        vertical-align: middle;\n",
       "    }\n",
       "\n",
       "    .dataframe tbody tr th {\n",
       "        vertical-align: top;\n",
       "    }\n",
       "\n",
       "    .dataframe thead th {\n",
       "        text-align: right;\n",
       "    }\n",
       "</style>\n",
       "<table border=\"1\" class=\"dataframe\">\n",
       "  <thead>\n",
       "    <tr style=\"text-align: right;\">\n",
       "      <th></th>\n",
       "      <th>User ID</th>\n",
       "      <th>Heart Rate (BPM)</th>\n",
       "      <th>Blood Oxygen Level (%)</th>\n",
       "      <th>Step Count</th>\n",
       "      <th>Sleep Duration (hours)</th>\n",
       "      <th>Activity Level</th>\n",
       "      <th>Stress Level</th>\n",
       "    </tr>\n",
       "  </thead>\n",
       "  <tbody>\n",
       "    <tr>\n",
       "      <th>2</th>\n",
       "      <td>1860.0</td>\n",
       "      <td>75.132684</td>\n",
       "      <td>97.052954</td>\n",
       "      <td>2826.521994</td>\n",
       "      <td>NaN</td>\n",
       "      <td>Highly Active</td>\n",
       "      <td>5</td>\n",
       "    </tr>\n",
       "    <tr>\n",
       "      <th>9438</th>\n",
       "      <td>4411.0</td>\n",
       "      <td>75.132684</td>\n",
       "      <td>99.524016</td>\n",
       "      <td>11209.020829</td>\n",
       "      <td>NaN</td>\n",
       "      <td>Highly Active</td>\n",
       "      <td>3</td>\n",
       "    </tr>\n",
       "    <tr>\n",
       "      <th>1262</th>\n",
       "      <td>4465.0</td>\n",
       "      <td>75.132684</td>\n",
       "      <td>97.113032</td>\n",
       "      <td>51.448103</td>\n",
       "      <td>NaN</td>\n",
       "      <td>Highly_Active</td>\n",
       "      <td>6</td>\n",
       "    </tr>\n",
       "    <tr>\n",
       "      <th>2039</th>\n",
       "      <td>1492.0</td>\n",
       "      <td>75.132684</td>\n",
       "      <td>98.223658</td>\n",
       "      <td>7741.843501</td>\n",
       "      <td>NaN</td>\n",
       "      <td>Highly_Active</td>\n",
       "      <td>5</td>\n",
       "    </tr>\n",
       "    <tr>\n",
       "      <th>2543</th>\n",
       "      <td>4441.0</td>\n",
       "      <td>75.132684</td>\n",
       "      <td>100.000000</td>\n",
       "      <td>12917.213806</td>\n",
       "      <td>NaN</td>\n",
       "      <td>Sedentary</td>\n",
       "      <td>6</td>\n",
       "    </tr>\n",
       "    <tr>\n",
       "      <th>...</th>\n",
       "      <td>...</td>\n",
       "      <td>...</td>\n",
       "      <td>...</td>\n",
       "      <td>...</td>\n",
       "      <td>...</td>\n",
       "      <td>...</td>\n",
       "      <td>...</td>\n",
       "    </tr>\n",
       "    <tr>\n",
       "      <th>9901</th>\n",
       "      <td>2269.0</td>\n",
       "      <td>63.369107</td>\n",
       "      <td>96.229029</td>\n",
       "      <td>6656.786482</td>\n",
       "      <td>NaN</td>\n",
       "      <td>Active</td>\n",
       "      <td>4</td>\n",
       "    </tr>\n",
       "    <tr>\n",
       "      <th>9912</th>\n",
       "      <td>2074.0</td>\n",
       "      <td>75.933666</td>\n",
       "      <td>97.386073</td>\n",
       "      <td>1813.072248</td>\n",
       "      <td>NaN</td>\n",
       "      <td>Sedentary</td>\n",
       "      <td>10</td>\n",
       "    </tr>\n",
       "    <tr>\n",
       "      <th>9927</th>\n",
       "      <td>3007.0</td>\n",
       "      <td>87.579045</td>\n",
       "      <td>98.768633</td>\n",
       "      <td>3727.161872</td>\n",
       "      <td>NaN</td>\n",
       "      <td>Active</td>\n",
       "      <td>1</td>\n",
       "    </tr>\n",
       "    <tr>\n",
       "      <th>9943</th>\n",
       "      <td>2961.0</td>\n",
       "      <td>91.834863</td>\n",
       "      <td>96.145378</td>\n",
       "      <td>38831.465057</td>\n",
       "      <td>NaN</td>\n",
       "      <td>Active</td>\n",
       "      <td>4</td>\n",
       "    </tr>\n",
       "    <tr>\n",
       "      <th>9951</th>\n",
       "      <td>3104.0</td>\n",
       "      <td>70.335328</td>\n",
       "      <td>98.560133</td>\n",
       "      <td>1997.442874</td>\n",
       "      <td>NaN</td>\n",
       "      <td>Highly_Active</td>\n",
       "      <td>9</td>\n",
       "    </tr>\n",
       "  </tbody>\n",
       "</table>\n",
       "<p>238 rows × 7 columns</p>\n",
       "</div>"
      ],
      "text/plain": [
       "      User ID  Heart Rate (BPM)  Blood Oxygen Level (%)    Step Count  \\\n",
       "2      1860.0         75.132684               97.052954   2826.521994   \n",
       "9438   4411.0         75.132684               99.524016  11209.020829   \n",
       "1262   4465.0         75.132684               97.113032     51.448103   \n",
       "2039   1492.0         75.132684               98.223658   7741.843501   \n",
       "2543   4441.0         75.132684              100.000000  12917.213806   \n",
       "...       ...               ...                     ...           ...   \n",
       "9901   2269.0         63.369107               96.229029   6656.786482   \n",
       "9912   2074.0         75.933666               97.386073   1813.072248   \n",
       "9927   3007.0         87.579045               98.768633   3727.161872   \n",
       "9943   2961.0         91.834863               96.145378  38831.465057   \n",
       "9951   3104.0         70.335328               98.560133   1997.442874   \n",
       "\n",
       "      Sleep Duration (hours) Activity Level Stress Level  \n",
       "2                        NaN  Highly Active            5  \n",
       "9438                     NaN  Highly Active            3  \n",
       "1262                     NaN  Highly_Active            6  \n",
       "2039                     NaN  Highly_Active            5  \n",
       "2543                     NaN      Sedentary            6  \n",
       "...                      ...            ...          ...  \n",
       "9901                     NaN         Active            4  \n",
       "9912                     NaN      Sedentary           10  \n",
       "9927                     NaN         Active            1  \n",
       "9943                     NaN         Active            4  \n",
       "9951                     NaN  Highly_Active            9  \n",
       "\n",
       "[238 rows x 7 columns]"
      ]
     },
     "execution_count": 47,
     "metadata": {},
     "output_type": "execute_result"
    }
   ],
   "source": [
    "errorTable['Sleep Duration (hours)'] = np.nan\n",
    "\n",
    "errorTable"
   ]
  },
  {
   "cell_type": "markdown",
   "metadata": {},
   "source": [
    "Now we could go through and put the tables back together, but another method to do this is to use a built-in function to pandas called `pd.to_numeric()`. Let's try that. "
   ]
  },
  {
   "cell_type": "code",
   "execution_count": 48,
   "metadata": {},
   "outputs": [
    {
     "data": {
      "text/html": [
       "<div>\n",
       "<style scoped>\n",
       "    .dataframe tbody tr th:only-of-type {\n",
       "        vertical-align: middle;\n",
       "    }\n",
       "\n",
       "    .dataframe tbody tr th {\n",
       "        vertical-align: top;\n",
       "    }\n",
       "\n",
       "    .dataframe thead th {\n",
       "        text-align: right;\n",
       "    }\n",
       "</style>\n",
       "<table border=\"1\" class=\"dataframe\">\n",
       "  <thead>\n",
       "    <tr style=\"text-align: right;\">\n",
       "      <th></th>\n",
       "      <th>User ID</th>\n",
       "      <th>Heart Rate (BPM)</th>\n",
       "      <th>Blood Oxygen Level (%)</th>\n",
       "      <th>Step Count</th>\n",
       "      <th>Sleep Duration (hours)</th>\n",
       "      <th>Activity Level</th>\n",
       "      <th>Stress Level</th>\n",
       "    </tr>\n",
       "  </thead>\n",
       "  <tbody>\n",
       "    <tr>\n",
       "      <th>2</th>\n",
       "      <td>1860.0</td>\n",
       "      <td>75.132684</td>\n",
       "      <td>97.052954</td>\n",
       "      <td>2826.521994</td>\n",
       "      <td>NaN</td>\n",
       "      <td>Highly Active</td>\n",
       "      <td>5</td>\n",
       "    </tr>\n",
       "    <tr>\n",
       "      <th>337</th>\n",
       "      <td>2369.0</td>\n",
       "      <td>75.132684</td>\n",
       "      <td>95.441773</td>\n",
       "      <td>2998.761919</td>\n",
       "      <td>6.670622</td>\n",
       "      <td>Highly Active</td>\n",
       "      <td>9</td>\n",
       "    </tr>\n",
       "    <tr>\n",
       "      <th>393</th>\n",
       "      <td>2443.0</td>\n",
       "      <td>75.132684</td>\n",
       "      <td>95.497181</td>\n",
       "      <td>1227.804688</td>\n",
       "      <td>5.185245</td>\n",
       "      <td>Highly_Active</td>\n",
       "      <td>9</td>\n",
       "    </tr>\n",
       "    <tr>\n",
       "      <th>403</th>\n",
       "      <td>3200.0</td>\n",
       "      <td>75.132684</td>\n",
       "      <td>96.011492</td>\n",
       "      <td>9402.746140</td>\n",
       "      <td>7.190063</td>\n",
       "      <td>Highly_Active</td>\n",
       "      <td>9</td>\n",
       "    </tr>\n",
       "    <tr>\n",
       "      <th>595</th>\n",
       "      <td>2129.0</td>\n",
       "      <td>75.132684</td>\n",
       "      <td>97.161853</td>\n",
       "      <td>2555.402184</td>\n",
       "      <td>5.928628</td>\n",
       "      <td>Highly Active</td>\n",
       "      <td>7</td>\n",
       "    </tr>\n",
       "    <tr>\n",
       "      <th>...</th>\n",
       "      <td>...</td>\n",
       "      <td>...</td>\n",
       "      <td>...</td>\n",
       "      <td>...</td>\n",
       "      <td>...</td>\n",
       "      <td>...</td>\n",
       "      <td>...</td>\n",
       "    </tr>\n",
       "    <tr>\n",
       "      <th>9994</th>\n",
       "      <td>1942.0</td>\n",
       "      <td>77.912299</td>\n",
       "      <td>98.640583</td>\n",
       "      <td>10061.145291</td>\n",
       "      <td>5.428635</td>\n",
       "      <td>Seddentary</td>\n",
       "      <td>10</td>\n",
       "    </tr>\n",
       "    <tr>\n",
       "      <th>9995</th>\n",
       "      <td>1524.0</td>\n",
       "      <td>78.819386</td>\n",
       "      <td>98.931927</td>\n",
       "      <td>2948.491953</td>\n",
       "      <td>7.402749</td>\n",
       "      <td>Active</td>\n",
       "      <td>7</td>\n",
       "    </tr>\n",
       "    <tr>\n",
       "      <th>9996</th>\n",
       "      <td>4879.0</td>\n",
       "      <td>48.632659</td>\n",
       "      <td>95.773035</td>\n",
       "      <td>4725.623070</td>\n",
       "      <td>6.382166</td>\n",
       "      <td>Sedentary</td>\n",
       "      <td>2</td>\n",
       "    </tr>\n",
       "    <tr>\n",
       "      <th>9997</th>\n",
       "      <td>2624.0</td>\n",
       "      <td>73.834442</td>\n",
       "      <td>97.945874</td>\n",
       "      <td>2571.492060</td>\n",
       "      <td>6.916549</td>\n",
       "      <td>Sedentary</td>\n",
       "      <td>4</td>\n",
       "    </tr>\n",
       "    <tr>\n",
       "      <th>9999</th>\n",
       "      <td>4113.0</td>\n",
       "      <td>70.063864</td>\n",
       "      <td>98.475606</td>\n",
       "      <td>544.696104</td>\n",
       "      <td>5.691001</td>\n",
       "      <td>Actve</td>\n",
       "      <td>5</td>\n",
       "    </tr>\n",
       "  </tbody>\n",
       "</table>\n",
       "<p>9601 rows × 7 columns</p>\n",
       "</div>"
      ],
      "text/plain": [
       "      User ID  Heart Rate (BPM)  Blood Oxygen Level (%)    Step Count  \\\n",
       "2      1860.0         75.132684               97.052954   2826.521994   \n",
       "337    2369.0         75.132684               95.441773   2998.761919   \n",
       "393    2443.0         75.132684               95.497181   1227.804688   \n",
       "403    3200.0         75.132684               96.011492   9402.746140   \n",
       "595    2129.0         75.132684               97.161853   2555.402184   \n",
       "...       ...               ...                     ...           ...   \n",
       "9994   1942.0         77.912299               98.640583  10061.145291   \n",
       "9995   1524.0         78.819386               98.931927   2948.491953   \n",
       "9996   4879.0         48.632659               95.773035   4725.623070   \n",
       "9997   2624.0         73.834442               97.945874   2571.492060   \n",
       "9999   4113.0         70.063864               98.475606    544.696104   \n",
       "\n",
       "      Sleep Duration (hours) Activity Level Stress Level  \n",
       "2                        NaN  Highly Active            5  \n",
       "337                 6.670622  Highly Active            9  \n",
       "393                 5.185245  Highly_Active            9  \n",
       "403                 7.190063  Highly_Active            9  \n",
       "595                 5.928628  Highly Active            7  \n",
       "...                      ...            ...          ...  \n",
       "9994                5.428635     Seddentary           10  \n",
       "9995                7.402749         Active            7  \n",
       "9996                6.382166      Sedentary            2  \n",
       "9997                6.916549      Sedentary            4  \n",
       "9999                5.691001          Actve            5  \n",
       "\n",
       "[9601 rows x 7 columns]"
      ]
     },
     "execution_count": 48,
     "metadata": {},
     "output_type": "execute_result"
    }
   ],
   "source": [
    "## create a copy of the table \n",
    "smartwatch_sleep = smartwatch_steps\n",
    "\n",
    "smartwatch_sleep['Sleep Duration (hours)'] = pd.to_numeric(smartwatch_sleep['Sleep Duration (hours)'], errors='coerce')\n",
    "\n",
    "smartwatch_sleep"
   ]
  },
  {
   "cell_type": "markdown",
   "metadata": {},
   "source": [
    "Now we can finish **Question 8** and find the minimum, maximum, and mean of the sleep duration column. "
   ]
  },
  {
   "cell_type": "code",
   "execution_count": null,
   "metadata": {},
   "outputs": [
    {
     "name": "stdout",
     "output_type": "stream",
     "text": [
      "-0.1944527906201543 12.140232872862926 6.508188914534359\n"
     ]
    }
   ],
   "source": [
    "minSleep = smartwatch_sleep['Sleep Duration (hours)'].min()\n",
    "\n",
    "maxSleep = smartwatch_sleep['Sleep Duration (hours)'].max()\n",
    "\n",
    "meanSleep = smartwatch_sleep['Sleep Duration (hours)'].mean()\n",
    "\n",
    "print(minSleep, maxSleep, meanSleep)"
   ]
  },
  {
   "cell_type": "code",
   "execution_count": 49,
   "metadata": {},
   "outputs": [
    {
     "data": {
      "text/html": [
       "<p><strong style='color: red;'><pre style='display: inline;'>Question 8</pre> results:</strong></p><p><strong><pre style='display: inline;'>Question 8 - 1</pre> result:</strong></p><pre>    ❌ Test case failed\n",
       "    Trying:\n",
       "        bool((minSleep == -0.1944527906201543) or (minSleep == np.float64(-0.1944527906201543)))\n",
       "    Expecting:\n",
       "        True\n",
       "    **********************************************************************\n",
       "    Line 3, in Question 8 0\n",
       "    Failed example:\n",
       "        bool((minSleep == -0.1944527906201543) or (minSleep == np.float64(-0.1944527906201543)))\n",
       "    Exception raised:\n",
       "        Traceback (most recent call last):\n",
       "          File \"/usr/local/python/3.12.1/lib/python3.12/doctest.py\", line 1359, in __run\n",
       "            exec(compile(example.source, filename, \"single\",\n",
       "          File \"<doctest Question 8 0[0]>\", line 1, in <module>\n",
       "            bool((minSleep == -0.1944527906201543) or (minSleep == np.float64(-0.1944527906201543)))\n",
       "                  ^^^^^^^^\n",
       "        NameError: name 'minSleep' is not defined. Did you mean: 'minSteps'?\n",
       "    Trying:\n",
       "        bool((maxSleep == 12.140232872862926) or (maxSleep == np.float64(12.140232872862926)))\n",
       "    Expecting:\n",
       "        True\n",
       "    **********************************************************************\n",
       "    Line 5, in Question 8 0\n",
       "    Failed example:\n",
       "        bool((maxSleep == 12.140232872862926) or (maxSleep == np.float64(12.140232872862926)))\n",
       "    Exception raised:\n",
       "        Traceback (most recent call last):\n",
       "          File \"/usr/local/python/3.12.1/lib/python3.12/doctest.py\", line 1359, in __run\n",
       "            exec(compile(example.source, filename, \"single\",\n",
       "          File \"<doctest Question 8 0[1]>\", line 1, in <module>\n",
       "            bool((maxSleep == 12.140232872862926) or (maxSleep == np.float64(12.140232872862926)))\n",
       "                  ^^^^^^^^\n",
       "        NameError: name 'maxSleep' is not defined. Did you mean: 'maxSteps'?\n",
       "    Trying:\n",
       "        bool((meanSleep ==  6.505462918406444) or (meanSleep == np.float64(6.505462918406444)))\n",
       "    Expecting:\n",
       "        True\n",
       "    **********************************************************************\n",
       "    Line 7, in Question 8 0\n",
       "    Failed example:\n",
       "        bool((meanSleep ==  6.505462918406444) or (meanSleep == np.float64(6.505462918406444)))\n",
       "    Exception raised:\n",
       "        Traceback (most recent call last):\n",
       "          File \"/usr/local/python/3.12.1/lib/python3.12/doctest.py\", line 1359, in __run\n",
       "            exec(compile(example.source, filename, \"single\",\n",
       "          File \"<doctest Question 8 0[2]>\", line 1, in <module>\n",
       "            bool((meanSleep ==  6.505462918406444) or (meanSleep == np.float64(6.505462918406444)))\n",
       "                  ^^^^^^^^^\n",
       "        NameError: name 'meanSleep' is not defined. Did you mean: 'meanSteps'?\n",
       "</pre>"
      ],
      "text/plain": [
       "Question 8 results:\n",
       "    Question 8 - 1 result:\n",
       "        ❌ Test case failed\n",
       "        Trying:\n",
       "            bool((minSleep == -0.1944527906201543) or (minSleep == np.float64(-0.1944527906201543)))\n",
       "        Expecting:\n",
       "            True\n",
       "        **********************************************************************\n",
       "        Line 3, in Question 8 0\n",
       "        Failed example:\n",
       "            bool((minSleep == -0.1944527906201543) or (minSleep == np.float64(-0.1944527906201543)))\n",
       "        Exception raised:\n",
       "            Traceback (most recent call last):\n",
       "              File \"/usr/local/python/3.12.1/lib/python3.12/doctest.py\", line 1359, in __run\n",
       "                exec(compile(example.source, filename, \"single\",\n",
       "              File \"<doctest Question 8 0[0]>\", line 1, in <module>\n",
       "                bool((minSleep == -0.1944527906201543) or (minSleep == np.float64(-0.1944527906201543)))\n",
       "                      ^^^^^^^^\n",
       "            NameError: name 'minSleep' is not defined. Did you mean: 'minSteps'?\n",
       "        Trying:\n",
       "            bool((maxSleep == 12.140232872862926) or (maxSleep == np.float64(12.140232872862926)))\n",
       "        Expecting:\n",
       "            True\n",
       "        **********************************************************************\n",
       "        Line 5, in Question 8 0\n",
       "        Failed example:\n",
       "            bool((maxSleep == 12.140232872862926) or (maxSleep == np.float64(12.140232872862926)))\n",
       "        Exception raised:\n",
       "            Traceback (most recent call last):\n",
       "              File \"/usr/local/python/3.12.1/lib/python3.12/doctest.py\", line 1359, in __run\n",
       "                exec(compile(example.source, filename, \"single\",\n",
       "              File \"<doctest Question 8 0[1]>\", line 1, in <module>\n",
       "                bool((maxSleep == 12.140232872862926) or (maxSleep == np.float64(12.140232872862926)))\n",
       "                      ^^^^^^^^\n",
       "            NameError: name 'maxSleep' is not defined. Did you mean: 'maxSteps'?\n",
       "        Trying:\n",
       "            bool((meanSleep ==  6.505462918406444) or (meanSleep == np.float64(6.505462918406444)))\n",
       "        Expecting:\n",
       "            True\n",
       "        **********************************************************************\n",
       "        Line 7, in Question 8 0\n",
       "        Failed example:\n",
       "            bool((meanSleep ==  6.505462918406444) or (meanSleep == np.float64(6.505462918406444)))\n",
       "        Exception raised:\n",
       "            Traceback (most recent call last):\n",
       "              File \"/usr/local/python/3.12.1/lib/python3.12/doctest.py\", line 1359, in __run\n",
       "                exec(compile(example.source, filename, \"single\",\n",
       "              File \"<doctest Question 8 0[2]>\", line 1, in <module>\n",
       "                bool((meanSleep ==  6.505462918406444) or (meanSleep == np.float64(6.505462918406444)))\n",
       "                      ^^^^^^^^^\n",
       "            NameError: name 'meanSleep' is not defined. Did you mean: 'meanSteps'?"
      ]
     },
     "execution_count": 49,
     "metadata": {},
     "output_type": "execute_result"
    }
   ],
   "source": [
    "grader.check('q8')"
   ]
  },
  {
   "cell_type": "markdown",
   "metadata": {},
   "source": [
    "**Question 9**: Decide how you want to deal with missing and outlier values in the sleep column. Set your final table equal to the variable `smartwatch_updated_sleep`. Use the space below to explain your decisions. \n",
    "\n",
    "*Remember to start with the `smartwatch_sleep` table that we just created.*\n",
    "\n",
    "Notes: Refer to [this article](https://pmc.ncbi.nlm.nih.gov/articles/PMC5548942/) on methods of handling these type of instances in data. Keep in mind, you might find that either there are no missing values or no outliers. That's okay, just indicate that in the written space below and update the table i.e. `smartwatch_updated_sleep = smartwatch_sleep`\n",
    "\n",
    "ANSWER: \n",
    "I used the same method used previously with the Step Count row to eliminate null data points in the Sleep row. I did this in place of imputation because I believe that the lost data is negligable, especially because data collected by a faulty watch may not be correct in other regards. So, if sleep data is miscounted in some way, then it may be best to ignore the other data collected in the same way."
   ]
  },
  {
   "cell_type": "code",
   "execution_count": 50,
   "metadata": {},
   "outputs": [
    {
     "name": "stdout",
     "output_type": "stream",
     "text": [
      "      User ID  Heart Rate (BPM)  Blood Oxygen Level (%)    Step Count  \\\n",
      "2      1860.0         75.132684               97.052954   2826.521994   \n",
      "337    2369.0         75.132684               95.441773   2998.761919   \n",
      "393    2443.0         75.132684               95.497181   1227.804688   \n",
      "403    3200.0         75.132684               96.011492   9402.746140   \n",
      "595    2129.0         75.132684               97.161853   2555.402184   \n",
      "...       ...               ...                     ...           ...   \n",
      "9994   1942.0         77.912299               98.640583  10061.145291   \n",
      "9995   1524.0         78.819386               98.931927   2948.491953   \n",
      "9996   4879.0         48.632659               95.773035   4725.623070   \n",
      "9997   2624.0         73.834442               97.945874   2571.492060   \n",
      "9999   4113.0         70.063864               98.475606    544.696104   \n",
      "\n",
      "      Sleep Duration (hours) Activity Level Stress Level  \n",
      "2                        NaN  Highly Active            5  \n",
      "337                 6.670622  Highly Active            9  \n",
      "393                 5.185245  Highly_Active            9  \n",
      "403                 7.190063  Highly_Active            9  \n",
      "595                 5.928628  Highly Active            7  \n",
      "...                      ...            ...          ...  \n",
      "9994                5.428635     Seddentary           10  \n",
      "9995                7.402749         Active            7  \n",
      "9996                6.382166      Sedentary            2  \n",
      "9997                6.916549      Sedentary            4  \n",
      "9999                5.691001          Actve            5  \n",
      "\n",
      "[9458 rows x 7 columns]\n"
     ]
    },
    {
     "name": "stderr",
     "output_type": "stream",
     "text": [
      "/tmp/ipykernel_2118/315721993.py:5: UserWarning: Boolean Series key will be reindexed to match DataFrame index.\n",
      "  smartwatch_updated_sleep = smartwatch_sleep[(~smartwatch['Sleep Duration (hours)'].isnull())]\n"
     ]
    }
   ],
   "source": [
    "## use this space or additional cells to address the missing or outlier data. \n",
    "\n",
    "\n",
    "smartwatch_updated_sleep = smartwatch_sleep[smartwatch_sleep['Sleep Duration (hours)'].isnull()]\n",
    "smartwatch_updated_sleep = smartwatch_sleep[(~smartwatch['Sleep Duration (hours)'].isnull())]\n",
    "\n",
    "print(smartwatch_updated_sleep)"
   ]
  },
  {
   "cell_type": "markdown",
   "metadata": {},
   "source": [
    "We're going to skip the `Activity Level` column for a minute and look at the `Stress Level` column. If we try getting the minimum, we'll find the same error as in the Sleep column where we have mixed data types (strings and numerical values). Let's use the same type of loop to make sure we don't obscure any data by forcing the strings to NaN values. "
   ]
  },
  {
   "cell_type": "code",
   "execution_count": 51,
   "metadata": {},
   "outputs": [
    {
     "name": "stdout",
     "output_type": "stream",
     "text": [
      "nan\n",
      "Very High\n"
     ]
    }
   ],
   "source": [
    "for item in smartwatch_updated_sleep['Stress Level'].unique():\n",
    "    try:\n",
    "        int(item)\n",
    "    except:\n",
    "        print(item)"
   ]
  },
  {
   "cell_type": "markdown",
   "metadata": {},
   "source": [
    "**Question 10**: \n",
    "\n",
    "What might you decide to do to deal with the `Very High` value? \n",
    "\n",
    "Go ahead and do so below and give a brief case for doing so here. Assign your table to the variable `smartwatch_stress`. \n",
    "\n",
    "ANSWER: The cell below attempts to convert all values in 'Stress Level' to a number, but, strings like \"Very High\" that cannot be turned into a number get turned into NaN (not a number). This is effective because it allows the computer to parse data more efficiently without having to look at input values like \"Very High\" and instead only looking at values that have meaning encoded into them, like NaN. It also preserves the data from the same watch as the incorrect stress level. "
   ]
  },
  {
   "cell_type": "code",
   "execution_count": 52,
   "metadata": {},
   "outputs": [
    {
     "name": "stdout",
     "output_type": "stream",
     "text": [
      "      User ID  Heart Rate (BPM)  Blood Oxygen Level (%)    Step Count  \\\n",
      "2      1860.0         75.132684               97.052954   2826.521994   \n",
      "337    2369.0         75.132684               95.441773   2998.761919   \n",
      "393    2443.0         75.132684               95.497181   1227.804688   \n",
      "403    3200.0         75.132684               96.011492   9402.746140   \n",
      "595    2129.0         75.132684               97.161853   2555.402184   \n",
      "...       ...               ...                     ...           ...   \n",
      "9994   1942.0         77.912299               98.640583  10061.145291   \n",
      "9995   1524.0         78.819386               98.931927   2948.491953   \n",
      "9996   4879.0         48.632659               95.773035   4725.623070   \n",
      "9997   2624.0         73.834442               97.945874   2571.492060   \n",
      "9999   4113.0         70.063864               98.475606    544.696104   \n",
      "\n",
      "      Sleep Duration (hours) Activity Level  Stress Level  \n",
      "2                        NaN  Highly Active           5.0  \n",
      "337                 6.670622  Highly Active           9.0  \n",
      "393                 5.185245  Highly_Active           9.0  \n",
      "403                 7.190063  Highly_Active           9.0  \n",
      "595                 5.928628  Highly Active           7.0  \n",
      "...                      ...            ...           ...  \n",
      "9994                5.428635     Seddentary          10.0  \n",
      "9995                7.402749         Active           7.0  \n",
      "9996                6.382166      Sedentary           2.0  \n",
      "9997                6.916549      Sedentary           4.0  \n",
      "9999                5.691001          Actve           5.0  \n",
      "\n",
      "[9601 rows x 7 columns]\n"
     ]
    },
    {
     "name": "stderr",
     "output_type": "stream",
     "text": [
      "/tmp/ipykernel_2118/3606466486.py:4: SettingWithCopyWarning: \n",
      "A value is trying to be set on a copy of a slice from a DataFrame.\n",
      "Try using .loc[row_indexer,col_indexer] = value instead\n",
      "\n",
      "See the caveats in the documentation: https://pandas.pydata.org/pandas-docs/stable/user_guide/indexing.html#returning-a-view-versus-a-copy\n",
      "  veryHigh['Stress Level'] = np.nan ##convert very high to NaN\n"
     ]
    }
   ],
   "source": [
    "## cell to deal with 'Very High' value\n",
    "\n",
    "veryHigh = smartwatch_steps[smartwatch_steps['Stress Level'] == 'Very High'] ##selecting rows where stress level = very high\n",
    "veryHigh['Stress Level'] = np.nan ##convert very high to NaN\n",
    "smartwatch_stress = smartwatch_steps\n",
    "smartwatch_stress['Stress Level'] = pd.to_numeric(smartwatch_stress['Stress Level'], errors='coerce') ##converting stress value into numbers (Very High into NaN because it cannot be a number)\n",
    "print(smartwatch_stress)\n"
   ]
  },
  {
   "cell_type": "markdown",
   "metadata": {},
   "source": [
    "Finally, let's go back to the `Activity Level` column and investigate what types of values we find there. "
   ]
  },
  {
   "cell_type": "code",
   "execution_count": 53,
   "metadata": {},
   "outputs": [
    {
     "name": "stdout",
     "output_type": "stream",
     "text": [
      "Highly Active\n",
      "Highly_Active\n",
      "Actve\n",
      "Seddentary\n",
      "Sedentary\n",
      "Active\n",
      "nan\n"
     ]
    }
   ],
   "source": [
    "for item in smartwatch['Activity Level'].unique(): ##loop through\n",
    "    try: ##attempt to return an integer\n",
    "        int(item)\n",
    "    except: ##print failed attempts (ie strings)\n",
    "        print(item)"
   ]
  },
  {
   "cell_type": "markdown",
   "metadata": {},
   "source": [
    "**Question 12**: \n",
    "\n",
    "What do you notice? There are several values that could and should be combined because they represent the same information. Let's go ahead and do that. While combining these columns, let's also create a new column `NumActivity` where we give a numerical value to represent the activity level. Assign your final table to the variable `final_table`. \n",
    "\n",
    "`Highly Active` = `1`\n",
    "\n",
    "`Active` = `2`\n",
    "\n",
    "`Sedentary` = `3`\n",
    "\n"
   ]
  },
  {
   "cell_type": "code",
   "execution_count": 54,
   "metadata": {},
   "outputs": [
    {
     "name": "stderr",
     "output_type": "stream",
     "text": [
      "/tmp/ipykernel_2118/842025291.py:3: SettingWithCopyWarning: \n",
      "A value is trying to be set on a copy of a slice from a DataFrame.\n",
      "Try using .loc[row_indexer,col_indexer] = value instead\n",
      "\n",
      "See the caveats in the documentation: https://pandas.pydata.org/pandas-docs/stable/user_guide/indexing.html#returning-a-view-versus-a-copy\n",
      "  highlyActive['Activity Level'] = \"Highly Active\"  ## Reset the text in the column to either 'Highly Active'\n",
      "/tmp/ipykernel_2118/842025291.py:4: SettingWithCopyWarning: \n",
      "A value is trying to be set on a copy of a slice from a DataFrame.\n",
      "Try using .loc[row_indexer,col_indexer] = value instead\n",
      "\n",
      "See the caveats in the documentation: https://pandas.pydata.org/pandas-docs/stable/user_guide/indexing.html#returning-a-view-versus-a-copy\n",
      "  highlyActive['NumActivity'] = \"Highly Active\" ## set the number for the numerical value\n",
      "/tmp/ipykernel_2118/842025291.py:9: SettingWithCopyWarning: \n",
      "A value is trying to be set on a copy of a slice from a DataFrame.\n",
      "Try using .loc[row_indexer,col_indexer] = value instead\n",
      "\n",
      "See the caveats in the documentation: https://pandas.pydata.org/pandas-docs/stable/user_guide/indexing.html#returning-a-view-versus-a-copy\n",
      "  active['Activity Level'] = \"Active\"  ## Reset the text in the column to either 'Active'\n",
      "/tmp/ipykernel_2118/842025291.py:10: SettingWithCopyWarning: \n",
      "A value is trying to be set on a copy of a slice from a DataFrame.\n",
      "Try using .loc[row_indexer,col_indexer] = value instead\n",
      "\n",
      "See the caveats in the documentation: https://pandas.pydata.org/pandas-docs/stable/user_guide/indexing.html#returning-a-view-versus-a-copy\n",
      "  active['NumActivity'] = \"Active\" ## set the number for the numerical value\n",
      "/tmp/ipykernel_2118/842025291.py:14: SettingWithCopyWarning: \n",
      "A value is trying to be set on a copy of a slice from a DataFrame.\n",
      "Try using .loc[row_indexer,col_indexer] = value instead\n",
      "\n",
      "See the caveats in the documentation: https://pandas.pydata.org/pandas-docs/stable/user_guide/indexing.html#returning-a-view-versus-a-copy\n",
      "  sedentary['Activity Level'] = \"Sedentary\"  ## Reset the text in the column to either 'sedentary'\n",
      "/tmp/ipykernel_2118/842025291.py:15: SettingWithCopyWarning: \n",
      "A value is trying to be set on a copy of a slice from a DataFrame.\n",
      "Try using .loc[row_indexer,col_indexer] = value instead\n",
      "\n",
      "See the caveats in the documentation: https://pandas.pydata.org/pandas-docs/stable/user_guide/indexing.html#returning-a-view-versus-a-copy\n",
      "  sedentary['NumActivity'] = \"Sedentary\" ## set the number for the numerical value\n"
     ]
    },
    {
     "data": {
      "text/html": [
       "<div>\n",
       "<style scoped>\n",
       "    .dataframe tbody tr th:only-of-type {\n",
       "        vertical-align: middle;\n",
       "    }\n",
       "\n",
       "    .dataframe tbody tr th {\n",
       "        vertical-align: top;\n",
       "    }\n",
       "\n",
       "    .dataframe thead th {\n",
       "        text-align: right;\n",
       "    }\n",
       "</style>\n",
       "<table border=\"1\" class=\"dataframe\">\n",
       "  <thead>\n",
       "    <tr style=\"text-align: right;\">\n",
       "      <th></th>\n",
       "      <th>User ID</th>\n",
       "      <th>Heart Rate (BPM)</th>\n",
       "      <th>Blood Oxygen Level (%)</th>\n",
       "      <th>Step Count</th>\n",
       "      <th>Sleep Duration (hours)</th>\n",
       "      <th>Activity Level</th>\n",
       "      <th>Stress Level</th>\n",
       "      <th>NumActivity</th>\n",
       "    </tr>\n",
       "  </thead>\n",
       "  <tbody>\n",
       "    <tr>\n",
       "      <th>2</th>\n",
       "      <td>1860.0</td>\n",
       "      <td>75.132684</td>\n",
       "      <td>97.052954</td>\n",
       "      <td>2826.521994</td>\n",
       "      <td>NaN</td>\n",
       "      <td>Highly Active</td>\n",
       "      <td>5.0</td>\n",
       "      <td>Highly Active</td>\n",
       "    </tr>\n",
       "    <tr>\n",
       "      <th>337</th>\n",
       "      <td>2369.0</td>\n",
       "      <td>75.132684</td>\n",
       "      <td>95.441773</td>\n",
       "      <td>2998.761919</td>\n",
       "      <td>6.670622</td>\n",
       "      <td>Highly Active</td>\n",
       "      <td>9.0</td>\n",
       "      <td>Highly Active</td>\n",
       "    </tr>\n",
       "    <tr>\n",
       "      <th>595</th>\n",
       "      <td>2129.0</td>\n",
       "      <td>75.132684</td>\n",
       "      <td>97.161853</td>\n",
       "      <td>2555.402184</td>\n",
       "      <td>5.928628</td>\n",
       "      <td>Highly Active</td>\n",
       "      <td>7.0</td>\n",
       "      <td>Highly Active</td>\n",
       "    </tr>\n",
       "    <tr>\n",
       "      <th>3451</th>\n",
       "      <td>2768.0</td>\n",
       "      <td>75.132684</td>\n",
       "      <td>96.761963</td>\n",
       "      <td>4723.116194</td>\n",
       "      <td>7.656777</td>\n",
       "      <td>Highly Active</td>\n",
       "      <td>3.0</td>\n",
       "      <td>Highly Active</td>\n",
       "    </tr>\n",
       "    <tr>\n",
       "      <th>3983</th>\n",
       "      <td>1597.0</td>\n",
       "      <td>75.132684</td>\n",
       "      <td>99.396872</td>\n",
       "      <td>23860.187292</td>\n",
       "      <td>9.727700</td>\n",
       "      <td>Highly Active</td>\n",
       "      <td>10.0</td>\n",
       "      <td>Highly Active</td>\n",
       "    </tr>\n",
       "    <tr>\n",
       "      <th>...</th>\n",
       "      <td>...</td>\n",
       "      <td>...</td>\n",
       "      <td>...</td>\n",
       "      <td>...</td>\n",
       "      <td>...</td>\n",
       "      <td>...</td>\n",
       "      <td>...</td>\n",
       "      <td>...</td>\n",
       "    </tr>\n",
       "    <tr>\n",
       "      <th>9842</th>\n",
       "      <td>2108.0</td>\n",
       "      <td>71.152455</td>\n",
       "      <td>98.585987</td>\n",
       "      <td>1480.777008</td>\n",
       "      <td>8.379498</td>\n",
       "      <td>NaN</td>\n",
       "      <td>9.0</td>\n",
       "      <td>NaN</td>\n",
       "    </tr>\n",
       "    <tr>\n",
       "      <th>9845</th>\n",
       "      <td>4203.0</td>\n",
       "      <td>91.417098</td>\n",
       "      <td>95.383875</td>\n",
       "      <td>1238.788704</td>\n",
       "      <td>6.226965</td>\n",
       "      <td>NaN</td>\n",
       "      <td>7.0</td>\n",
       "      <td>NaN</td>\n",
       "    </tr>\n",
       "    <tr>\n",
       "      <th>9867</th>\n",
       "      <td>2674.0</td>\n",
       "      <td>69.075313</td>\n",
       "      <td>99.067026</td>\n",
       "      <td>2759.328767</td>\n",
       "      <td>4.919706</td>\n",
       "      <td>NaN</td>\n",
       "      <td>5.0</td>\n",
       "      <td>NaN</td>\n",
       "    </tr>\n",
       "    <tr>\n",
       "      <th>9898</th>\n",
       "      <td>1409.0</td>\n",
       "      <td>79.941705</td>\n",
       "      <td>98.716816</td>\n",
       "      <td>619.353083</td>\n",
       "      <td>8.143443</td>\n",
       "      <td>NaN</td>\n",
       "      <td>8.0</td>\n",
       "      <td>NaN</td>\n",
       "    </tr>\n",
       "    <tr>\n",
       "      <th>9991</th>\n",
       "      <td>4289.0</td>\n",
       "      <td>91.381582</td>\n",
       "      <td>95.741838</td>\n",
       "      <td>3930.126338</td>\n",
       "      <td>5.804083</td>\n",
       "      <td>NaN</td>\n",
       "      <td>8.0</td>\n",
       "      <td>NaN</td>\n",
       "    </tr>\n",
       "  </tbody>\n",
       "</table>\n",
       "<p>4954 rows × 8 columns</p>\n",
       "</div>"
      ],
      "text/plain": [
       "      User ID  Heart Rate (BPM)  Blood Oxygen Level (%)    Step Count  \\\n",
       "2      1860.0         75.132684               97.052954   2826.521994   \n",
       "337    2369.0         75.132684               95.441773   2998.761919   \n",
       "595    2129.0         75.132684               97.161853   2555.402184   \n",
       "3451   2768.0         75.132684               96.761963   4723.116194   \n",
       "3983   1597.0         75.132684               99.396872  23860.187292   \n",
       "...       ...               ...                     ...           ...   \n",
       "9842   2108.0         71.152455               98.585987   1480.777008   \n",
       "9845   4203.0         91.417098               95.383875   1238.788704   \n",
       "9867   2674.0         69.075313               99.067026   2759.328767   \n",
       "9898   1409.0         79.941705               98.716816    619.353083   \n",
       "9991   4289.0         91.381582               95.741838   3930.126338   \n",
       "\n",
       "      Sleep Duration (hours) Activity Level  Stress Level    NumActivity  \n",
       "2                        NaN  Highly Active           5.0  Highly Active  \n",
       "337                 6.670622  Highly Active           9.0  Highly Active  \n",
       "595                 5.928628  Highly Active           7.0  Highly Active  \n",
       "3451                7.656777  Highly Active           3.0  Highly Active  \n",
       "3983                9.727700  Highly Active          10.0  Highly Active  \n",
       "...                      ...            ...           ...            ...  \n",
       "9842                8.379498            NaN           9.0            NaN  \n",
       "9845                6.226965            NaN           7.0            NaN  \n",
       "9867                4.919706            NaN           5.0            NaN  \n",
       "9898                8.143443            NaN           8.0            NaN  \n",
       "9991                5.804083            NaN           8.0            NaN  \n",
       "\n",
       "[4954 rows x 8 columns]"
      ]
     },
     "execution_count": 54,
     "metadata": {},
     "output_type": "execute_result"
    }
   ],
   "source": [
    "## Highly Active \n",
    "highlyActive = smartwatch_stress[(smartwatch_stress['Activity Level'] == \"Highly Active\")] ## Pull out rows for two unique values matching highly active\n",
    "highlyActive['Activity Level'] = \"Highly Active\"  ## Reset the text in the column to either 'Highly Active'\n",
    "highlyActive['NumActivity'] = \"Highly Active\" ## set the number for the numerical value \n",
    "\n",
    "\n",
    "## Active\n",
    "active = smartwatch_stress[(smartwatch_stress['Activity Level'] == \"Active\")]  ## Pull out rows for two unique values matching active\n",
    "active['Activity Level'] = \"Active\"  ## Reset the text in the column to either 'Active'\n",
    "active['NumActivity'] = \"Active\" ## set the number for the numerical value \n",
    "\n",
    "## Sedentary \n",
    "sedentary = smartwatch_stress[(smartwatch_stress['Activity Level'] == \"Sedentary\")]  ## Pull out rows for two unique values matching sedentary\n",
    "sedentary['Activity Level'] = \"Sedentary\"  ## Reset the text in the column to either 'sedentary'\n",
    "sedentary['NumActivity'] = \"Sedentary\" ## set the number for the numerical value \n",
    "\n",
    "final_table = pd.concat([highlyActive, active, sedentary, smartwatch_stress[smartwatch_stress['Activity Level'].isnull()]])\n",
    "final_table"
   ]
  },
  {
   "cell_type": "markdown",
   "metadata": {},
   "source": [
    "Let's check to make sure that we no longer have any missing values in each column (besides the Activity Level/NumActivity, Stress Level, and User ID columns). You likely either removed those rows or imputed a value to substitute the missing values. "
   ]
  },
  {
   "cell_type": "code",
   "execution_count": 55,
   "metadata": {},
   "outputs": [
    {
     "data": {
      "text/plain": [
       "User ID                   100\n",
       "Heart Rate (BPM)            0\n",
       "Blood Oxygen Level (%)      0\n",
       "Step Count                  0\n",
       "Sleep Duration (hours)    192\n",
       "Activity Level            193\n",
       "Stress Level              117\n",
       "NumActivity               193\n",
       "dtype: int64"
      ]
     },
     "execution_count": 55,
     "metadata": {},
     "output_type": "execute_result"
    }
   ],
   "source": [
    "final_table.isnull().sum()"
   ]
  },
  {
   "cell_type": "markdown",
   "metadata": {},
   "source": [
    "Then let's use the info function to make sure each column has the data type we're expecting. "
   ]
  },
  {
   "cell_type": "code",
   "execution_count": 56,
   "metadata": {},
   "outputs": [
    {
     "name": "stdout",
     "output_type": "stream",
     "text": [
      "<class 'pandas.core.frame.DataFrame'>\n",
      "Index: 4954 entries, 2 to 9991\n",
      "Data columns (total 8 columns):\n",
      " #   Column                  Non-Null Count  Dtype  \n",
      "---  ------                  --------------  -----  \n",
      " 0   User ID                 4854 non-null   float64\n",
      " 1   Heart Rate (BPM)        4954 non-null   float64\n",
      " 2   Blood Oxygen Level (%)  4954 non-null   float64\n",
      " 3   Step Count              4954 non-null   float64\n",
      " 4   Sleep Duration (hours)  4762 non-null   float64\n",
      " 5   Activity Level          4761 non-null   object \n",
      " 6   Stress Level            4837 non-null   float64\n",
      " 7   NumActivity             4761 non-null   object \n",
      "dtypes: float64(6), object(2)\n",
      "memory usage: 348.3+ KB\n"
     ]
    }
   ],
   "source": [
    "final_table.info()"
   ]
  },
  {
   "cell_type": "markdown",
   "metadata": {},
   "source": [
    "**Question 13**: \n",
    "\n",
    "Let's visualize two of the variables. Let's pick `Heart Rate (BPM)` and then you can select any other numerical variable. We're going to create a scatter plot using matplotlib.pyplot. Example code is: \n",
    "\n",
    "`plt.scatter(x, y)` where x and y are your columns of data such as df['label']\n",
    "\n",
    "Also try including a size parameter to make your points smaller to better see patterns. We'll talk more about creating figures in python in a few weeks, but for now let's just look at the broad patterns. \n",
    "\n",
    "Example of including size parameter: \n",
    "\n",
    "`plt.scatter(x, y, s=1)` Try changing the `s` parameter to 10, 1, 0.5, and 0.1. \n",
    "\n",
    "What do you notice?\n",
    "\n",
    "ANSWER: It is interesting to see the way that the size parameter effects the plot. S=10 was the easiest to interpret visually, although it does have its drawbacks when it comes to interpreting individual data points. S=.1 was not readable, but it was easier to find a specific point. Because of this, S=1 might be the most effective graph because it preserves readability in both ways. I prefer S=10, so that is how I will compare."
   ]
  },
  {
   "cell_type": "code",
   "execution_count": 57,
   "metadata": {},
   "outputs": [
    {
     "data": {
      "text/plain": [
       "<matplotlib.collections.PathCollection at 0x7b7d2dfee3c0>"
      ]
     },
     "execution_count": 57,
     "metadata": {},
     "output_type": "execute_result"
    },
    {
     "data": {
      "image/png": "[encoded data removed]",
      "text/plain": [
       "<Figure size 640x480 with 1 Axes>"
      ]
     },
     "metadata": {},
     "output_type": "display_data"
    }
   ],
   "source": [
    "x = final_table['Heart Rate (BPM)']\n",
    "y = final_table['Step Count'] ##set variables with =\n",
    "\n",
    "plt.scatter(x, y, s=0.1) ##pick 10, 1 , .5, .1....."
   ]
  },
  {
   "cell_type": "markdown",
   "metadata": {},
   "source": [
    "**Question 14**: \n",
    "\n",
    "\n",
    "Read in the CSV table where we kept all the NaN values instead of removing or imputing them. Repeat the exact same visualization as above with this data. \n",
    "\n",
    "Compare the two figures. What do you notice?\n",
    "\n",
    "ANSWER:\n",
    "\n",
    "..."
   ]
  },
  {
   "cell_type": "code",
   "execution_count": 58,
   "metadata": {},
   "outputs": [],
   "source": [
    "nanTable = pd.read_csv('smartwatch_nan_vals.csv')"
   ]
  },
  {
   "cell_type": "code",
   "execution_count": 59,
   "metadata": {},
   "outputs": [
    {
     "data": {
      "text/plain": [
       "<matplotlib.collections.PathCollection at 0x7b7d2dff2270>"
      ]
     },
     "execution_count": 59,
     "metadata": {},
     "output_type": "execute_result"
    },
    {
     "data": {
      "image/png": "[encoded data removed]",
      "text/plain": [
       "<Figure size 640x480 with 1 Axes>"
      ]
     },
     "metadata": {},
     "output_type": "display_data"
    }
   ],
   "source": [
    "plt.scatter(nanTable['Heart Rate (BPM)'], nanTable['Step Count'], s = 0.1)"
   ]
  },
  {
   "cell_type": "markdown",
   "metadata": {},
   "source": [
    "**Question 15**: \n",
    "\n",
    "\n",
    "Does the amount of steps signficantly differ between the different activity level groups? \n",
    "\n",
    "Hint: Try using a boxplot (`sns.boxplot`) to first visualize the problem. Then you can use scipy.stats to run an ANOVA. "
   ]
  },
  {
   "cell_type": "code",
   "execution_count": 60,
   "metadata": {},
   "outputs": [
    {
     "data": {
      "text/plain": [
       "<Axes: xlabel='Activity Level', ylabel='Step Count'>"
      ]
     },
     "execution_count": 60,
     "metadata": {},
     "output_type": "execute_result"
    },
    {
     "data": {
      "image/png": "[encoded data removed]",
      "text/plain": [
       "<Figure size 640x480 with 1 Axes>"
      ]
     },
     "metadata": {},
     "output_type": "display_data"
    }
   ],
   "source": [
    "## Visualization \n",
    "sns.boxplot(data=smartwatch_stress, x='Activity Level', y='Step Count') ##looked up \"how to use boxplot\" and looked at google ai"
   ]
  },
  {
   "cell_type": "code",
   "execution_count": 61,
   "metadata": {},
   "outputs": [
    {
     "name": "stdout",
     "output_type": "stream",
     "text": [
      "ANOVA test statistic: 0.786, p-value: 0.456\n"
     ]
    }
   ],
   "source": [
    "from scipy.stats import f_oneway\n",
    "\n",
    "## create a table for each activity level group\n",
    "sed = smartwatch_stress[(smartwatch_stress['Activity Level'] == \"Sedentary\")]\n",
    "act = smartwatch_stress[(smartwatch_stress['Activity Level'] == \"Active\")]\n",
    "hact = smartwatch_stress[(smartwatch_stress['Activity Level'] == \"Highly Active\")]\n",
    "\n",
    "stat, pval = f_oneway(sed['Step Count'], act['Step Count'], hact['Step Count'])\n",
    "\n",
    "\n",
    "print(f\"ANOVA test statistic: {stat:.3f}, p-value: {pval:.3f}\")\n"
   ]
  },
  {
   "cell_type": "markdown",
   "metadata": {},
   "source": [
    "Is there significant difference between the groups' step counts?  \n",
    "\n",
    "ANSWER:\n",
    "No, because our found p-value is relatively high, and the f-statistic is relatively low, we can determine that there is not a very significant difference between activity levels."
   ]
  },
  {
   "cell_type": "markdown",
   "metadata": {},
   "source": [
    "**Question 16**\n",
    "\n",
    "If you were to present your findings from this dataset to a broader audience (such as policymakers, healthcare providers, or the general public), how would you communicate key insights responsibly? What considerations would you take into account to avoid misrepresenting the data or reinforcing biases?\n",
    "\n",
    "ANSWER: This is where the seven principles of data feminism come into play. In this scenario, it would be important to consider context, and tailor your data visualizations depending on what audience you have. Context is very important to an audience. They need to consider how data was collected, typical averages of each column, representation in the sample, scale of sample, and more. It is also important to consider readability, as it is important that an audience member with little knowledge on the topic can still understand your data visualization. Overall, one of the most important tools against reinforcing bias is transparency. It is important to acknowledge work (make labor visible) and also acknowledge the limitaions of your data. To avoid misrepresentation, clear labels and simple wording is important. "
   ]
  },
  {
   "cell_type": "markdown",
   "metadata": {},
   "source": []
  }
 ],
 "metadata": {
  "kernelspec": {
   "display_name": "Python 3",
   "language": "python",
   "name": "python3"
  },
  "language_info": {
   "codemirror_mode": {
    "name": "ipython",
    "version": 3
   },
   "file_extension": ".py",
   "mimetype": "text/x-python",
   "name": "python",
   "nbconvert_exporter": "python",
   "pygments_lexer": "ipython3",
   "version": "3.12.1"
  }
 },
 "nbformat": 4,
 "nbformat_minor": 2
}
